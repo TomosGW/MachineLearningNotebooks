{
 "cells": [
  {
   "cell_type": "markdown",
   "metadata": {},
   "source": [
    "Copyright (c) Microsoft Corporation. All rights reserved.\n",
    "\n",
    "Licensed under the MIT License."
   ]
  },
  {
   "cell_type": "markdown",
   "metadata": {},
   "source": [
    "![Impressions](https://PixelServer20190423114238.azurewebsites.net/api/impressions/NotebookVM/how-to-use-azureml/training-with-deep-learning/train-hyperparameter-tune-deploy-with-keras/train-hyperparameter-tune-deploy-with-keras.png)"
   ]
  },
  {
   "cell_type": "markdown",
   "metadata": {
    "nbpresent": {
     "id": "bf74d2e9-2708-49b1-934b-e0ede342f475"
    }
   },
   "source": [
    "# Training, hyperparameter tune, and deploy with Keras\n",
    "\n",
    "## Introduction\n",
    "This tutorial shows how to train a simple deep neural network using the MNIST dataset and Keras on Azure Machine Learning. MNIST is a popular dataset consisting of 70,000 grayscale images. Each image is a handwritten digit of `28x28` pixels, representing number from 0 to 9. The goal is to create a multi-class classifier to identify the digit each image represents, and deploy it as a web service in Azure.\n",
    "\n",
    "For more information about the MNIST dataset, please visit [Yan LeCun's website](http://yann.lecun.com/exdb/mnist/).\n",
    "\n",
    "## Prerequisite:\n",
    "* Understand the [architecture and terms](https://docs.microsoft.com/azure/machine-learning/service/concept-azure-machine-learning-architecture) introduced by Azure Machine Learning\n",
    "* If you are using an Azure Machine Learning Notebook VM, you are all set. Otherwise, go through the [configuration notebook](../../../configuration.ipynb) to:\n",
    "    * install the AML SDK\n",
    "    * create a workspace and its configuration file (`config.json`)\n",
    "* For local scoring test, you will also need to have `tensorflow` and `keras` installed in the current Jupyter kernel."
   ]
  },
  {
   "cell_type": "markdown",
   "metadata": {},
   "source": [
    "Let's get started. First let's import some Python libraries."
   ]
  },
  {
   "cell_type": "code",
   "execution_count": 1,
   "metadata": {
    "nbpresent": {
     "id": "c377ea0c-0cd9-4345-9be2-e20fb29c94c3"
    }
   },
   "outputs": [],
   "source": [
    "%matplotlib inline\n",
    "import numpy as np\n",
    "import os\n",
    "import matplotlib.pyplot as plt"
   ]
  },
  {
   "cell_type": "code",
   "execution_count": 2,
   "metadata": {
    "nbpresent": {
     "id": "edaa7f2f-2439-4148-b57a-8c794c0945ec"
    }
   },
   "outputs": [
    {
     "name": "stdout",
     "output_type": "stream",
     "text": [
      "Azure ML SDK Version:  1.0.60\n"
     ]
    }
   ],
   "source": [
    "import azureml\n",
    "from azureml.core import Workspace\n",
    "\n",
    "# check core SDK version number\n",
    "print(\"Azure ML SDK Version: \", azureml.core.VERSION)"
   ]
  },
  {
   "cell_type": "markdown",
   "metadata": {},
   "source": [
    "## Initialize workspace\n",
    "Initialize a [Workspace](https://docs.microsoft.com/azure/machine-learning/service/concept-azure-machine-learning-architecture#workspace) object from the existing workspace you created in the Prerequisites step. `Workspace.from_config()` creates a workspace object from the details stored in `config.json`."
   ]
  },
  {
   "cell_type": "code",
   "execution_count": 3,
   "metadata": {},
   "outputs": [
    {
     "name": "stdout",
     "output_type": "stream",
     "text": [
      "Workspace name: dl01\n",
      "Azure region: uksouth\n",
      "Subscription id: 51799227-bd67-4e34-96c2-fa93ef5da18d\n",
      "Resource group: tom\n"
     ]
    }
   ],
   "source": [
    "ws = Workspace.from_config()\n",
    "print('Workspace name: ' + ws.name, \n",
    "      'Azure region: ' + ws.location, \n",
    "      'Subscription id: ' + ws.subscription_id, \n",
    "      'Resource group: ' + ws.resource_group, sep='\\n')"
   ]
  },
  {
   "cell_type": "markdown",
   "metadata": {
    "nbpresent": {
     "id": "59f52294-4a25-4c92-bab8-3b07f0f44d15"
    }
   },
   "source": [
    "## Create an Azure ML experiment\n",
    "Let's create an experiment named \"keras-mnist\" and a folder to hold the training scripts. The script runs will be recorded under the experiment in Azure."
   ]
  },
  {
   "cell_type": "code",
   "execution_count": 4,
   "metadata": {
    "nbpresent": {
     "id": "bc70f780-c240-4779-96f3-bc5ef9a37d59"
    }
   },
   "outputs": [],
   "source": [
    "from azureml.core import Experiment\n",
    "\n",
    "script_folder = './keras-mnist'\n",
    "os.makedirs(script_folder, exist_ok=True)\n",
    "\n",
    "exp = Experiment(workspace=ws, name='keras-mnist')"
   ]
  },
  {
   "cell_type": "markdown",
   "metadata": {
    "nbpresent": {
     "id": "defe921f-8097-44c3-8336-8af6700804a7"
    }
   },
   "source": [
    "## Download MNIST dataset\n",
    "In order to train on the MNIST dataset we will first need to download it from Yan LeCun's web site directly and save them in a `data` folder locally."
   ]
  },
  {
   "cell_type": "code",
   "execution_count": 5,
   "metadata": {},
   "outputs": [
    {
     "data": {
      "text/plain": [
       "('./data/mnist/test-labels.gz', <http.client.HTTPMessage at 0x7f798ceb2630>)"
      ]
     },
     "execution_count": 5,
     "metadata": {},
     "output_type": "execute_result"
    }
   ],
   "source": [
    "import urllib\n",
    "\n",
    "os.makedirs('./data/mnist', exist_ok=True)\n",
    "\n",
    "urllib.request.urlretrieve('http://yann.lecun.com/exdb/mnist/train-images-idx3-ubyte.gz', filename='./data/mnist/train-images.gz')\n",
    "urllib.request.urlretrieve('http://yann.lecun.com/exdb/mnist/train-labels-idx1-ubyte.gz', filename='./data/mnist/train-labels.gz')\n",
    "urllib.request.urlretrieve('http://yann.lecun.com/exdb/mnist/t10k-images-idx3-ubyte.gz', filename='./data/mnist/test-images.gz')\n",
    "urllib.request.urlretrieve('http://yann.lecun.com/exdb/mnist/t10k-labels-idx1-ubyte.gz', filename='./data/mnist/test-labels.gz')"
   ]
  },
  {
   "cell_type": "markdown",
   "metadata": {
    "nbpresent": {
     "id": "c3f2f57c-7454-4d3e-b38d-b0946cf066ea"
    }
   },
   "source": [
    "## Show some sample images\n",
    "Let's load the downloaded compressed file into numpy arrays using some utility functions included in the `utils.py` library file from the current folder. Then we use `matplotlib` to plot 30 random images from the dataset along with their labels."
   ]
  },
  {
   "cell_type": "code",
   "execution_count": 6,
   "metadata": {
    "nbpresent": {
     "id": "396d478b-34aa-4afa-9898-cdce8222a516"
    }
   },
   "outputs": [
    {
     "data": {
      "image/png": "[encoded data removed]",
      "text/plain": [
       "<Figure size 1152x432 with 30 Axes>"
      ]
     },
     "metadata": {
      "needs_background": "light"
     },
     "output_type": "display_data"
    }
   ],
   "source": [
    "from utils import load_data, one_hot_encode\n",
    "\n",
    "# note we also shrink the intensity values (X) from 0-255 to 0-1. This helps the neural network converge faster.\n",
    "X_train = load_data('./data/mnist/train-images.gz', False) / 255.0\n",
    "y_train = load_data('./data/mnist/train-labels.gz', True).reshape(-1)\n",
    "\n",
    "X_test = load_data('./data/mnist/test-images.gz', False) / 255.0\n",
    "y_test = load_data('./data/mnist/test-labels.gz', True).reshape(-1)\n",
    "\n",
    "count = 0\n",
    "sample_size = 30\n",
    "plt.figure(figsize = (16, 6))\n",
    "for i in np.random.permutation(X_train.shape[0])[:sample_size]:\n",
    "    count = count + 1\n",
    "    plt.subplot(1, sample_size, count)\n",
    "    plt.axhline('')\n",
    "    plt.axvline('')\n",
    "    plt.text(x = 10, y = -10, s = y_train[i], fontsize = 18)\n",
    "    plt.imshow(X_train[i].reshape(28, 28), cmap = plt.cm.Greys)\n",
    "plt.show()"
   ]
  },
  {
   "cell_type": "markdown",
   "metadata": {},
   "source": [
    "## Upload MNIST dataset to default datastore \n",
    "A [datastore](https://docs.microsoft.com/azure/machine-learning/service/how-to-access-data) is a place where data can be stored that is then made accessible to a Run either by means of mounting or copying the data to the compute target. A datastore can either be backed by an Azure Blob Storage or and Azure File Share (ADLS will be supported in the future). For simple data handling, each workspace provides a default datastore that can be used, in case the data is not already in Blob Storage or File Share."
   ]
  },
  {
   "cell_type": "code",
   "execution_count": 7,
   "metadata": {},
   "outputs": [],
   "source": [
    "ds = ws.get_default_datastore()"
   ]
  },
  {
   "cell_type": "markdown",
   "metadata": {},
   "source": [
    "In this next step, we will upload the training and test set into the workspace's default datastore, which we will then later be mount on an `AmlCompute` cluster for training."
   ]
  },
  {
   "cell_type": "code",
   "execution_count": 8,
   "metadata": {},
   "outputs": [
    {
     "name": "stdout",
     "output_type": "stream",
     "text": [
      "Uploading an estimated of 4 files\n",
      "Uploading ./data/mnist/test-images.gz\n",
      "Uploading ./data/mnist/test-labels.gz\n",
      "Uploading ./data/mnist/train-images.gz\n",
      "Uploading ./data/mnist/train-labels.gz\n",
      "Uploaded ./data/mnist/train-labels.gz, 1 files out of an estimated total of 4\n",
      "Uploaded ./data/mnist/test-labels.gz, 2 files out of an estimated total of 4\n",
      "Uploaded ./data/mnist/test-images.gz, 3 files out of an estimated total of 4\n",
      "Uploaded ./data/mnist/train-images.gz, 4 files out of an estimated total of 4\n",
      "Uploaded 4 files\n"
     ]
    },
    {
     "data": {
      "text/plain": [
       "$AZUREML_DATAREFERENCE_8a7f6eca935647fe8fd4bd343fbb1f66"
      ]
     },
     "execution_count": 8,
     "metadata": {},
     "output_type": "execute_result"
    }
   ],
   "source": [
    "ds.upload(src_dir='./data/mnist', target_path='mnist', overwrite=True, show_progress=True)"
   ]
  },
  {
   "cell_type": "markdown",
   "metadata": {},
   "source": [
    "## Create or Attach existing AmlCompute\n",
    "You will need to create a [compute target](https://docs.microsoft.com/azure/machine-learning/service/concept-azure-machine-learning-architecture#compute-target) for training your model. In this tutorial, you create `AmlCompute` as your training compute resource."
   ]
  },
  {
   "cell_type": "markdown",
   "metadata": {},
   "source": [
    "If we could not find the cluster with the given name, then we will create a new cluster here. We will create an `AmlCompute` cluster of `STANDARD_NC6` GPU VMs. This process is broken down into 3 steps:\n",
    "1. create the configuration (this step is local and only takes a second)\n",
    "2. create the cluster (this step will take about **20 seconds**)\n",
    "3. provision the VMs to bring the cluster to the initial size (of 1 in this case). This step will take about **3-5 minutes** and is providing only sparse output in the process. Please make sure to wait until the call returns before moving to the next cell"
   ]
  },
  {
   "cell_type": "code",
   "execution_count": 9,
   "metadata": {},
   "outputs": [
    {
     "name": "stdout",
     "output_type": "stream",
     "text": [
      "Found existing compute target\n",
      "{'currentNodeCount': 0, 'targetNodeCount': 0, 'nodeStateCounts': {'preparingNodeCount': 0, 'runningNodeCount': 0, 'idleNodeCount': 0, 'unusableNodeCount': 0, 'leavingNodeCount': 0, 'preemptedNodeCount': 0}, 'allocationState': 'Steady', 'allocationStateTransitionTime': '2019-09-20T13:48:48.909000+00:00', 'errors': None, 'creationTime': '2019-09-16T17:09:07.597554+00:00', 'modifiedTime': '2019-09-16T17:09:28.403262+00:00', 'provisioningState': 'Succeeded', 'provisioningStateTransitionTime': None, 'scaleSettings': {'minNodeCount': 0, 'maxNodeCount': 4, 'nodeIdleTimeBeforeScaleDown': 'PT120S'}, 'vmPriority': 'Dedicated', 'vmSize': 'STANDARD_NC6'}\n"
     ]
    }
   ],
   "source": [
    "from azureml.core.compute import ComputeTarget, AmlCompute\n",
    "from azureml.core.compute_target import ComputeTargetException\n",
    "\n",
    "# choose a name for your cluster\n",
    "cluster_name = \"gpu-cluster\"\n",
    "\n",
    "try:\n",
    "    compute_target = ComputeTarget(workspace=ws, name=cluster_name)\n",
    "    print('Found existing compute target')\n",
    "except ComputeTargetException:\n",
    "    print('Creating a new compute target...')\n",
    "    compute_config = AmlCompute.provisioning_configuration(vm_size='STANDARD_NC6', \n",
    "                                                           max_nodes=4)\n",
    "\n",
    "    # create the cluster\n",
    "    compute_target = ComputeTarget.create(ws, cluster_name, compute_config)\n",
    "\n",
    "    # can poll for a minimum number of nodes and for a specific timeout. \n",
    "    # if no min node count is provided it uses the scale settings for the cluster\n",
    "    compute_target.wait_for_completion(show_output=True, min_node_count=None, timeout_in_minutes=20)\n",
    "\n",
    "# use get_status() to get a detailed status for the current cluster. \n",
    "print(compute_target.get_status().serialize())"
   ]
  },
  {
   "cell_type": "markdown",
   "metadata": {},
   "source": [
    "Now that you have created the compute target, let's see what the workspace's `compute_targets` property returns. You should now see one entry named \"gpu-cluster\" of type `AmlCompute`."
   ]
  },
  {
   "cell_type": "code",
   "execution_count": 10,
   "metadata": {},
   "outputs": [
    {
     "name": "stdout",
     "output_type": "stream",
     "text": [
      "tomNotebooks VirtualMachine Succeeded\n",
      "cpu-cluster AmlCompute Succeeded\n",
      "gpu-cluster AmlCompute Succeeded\n"
     ]
    }
   ],
   "source": [
    "compute_targets = ws.compute_targets\n",
    "for name, ct in compute_targets.items():\n",
    "    print(name, ct.type, ct.provisioning_state)"
   ]
  },
  {
   "cell_type": "markdown",
   "metadata": {},
   "source": [
    "## Copy the training files into the script folder\n",
    "The Keras training script is already created for you. You can simply copy it into the script folder, together with the utility library used to load compressed data file into numpy array."
   ]
  },
  {
   "cell_type": "code",
   "execution_count": 11,
   "metadata": {},
   "outputs": [
    {
     "data": {
      "text/plain": [
       "'./keras-mnist/utils.py'"
      ]
     },
     "execution_count": 11,
     "metadata": {},
     "output_type": "execute_result"
    }
   ],
   "source": [
    "import shutil\n",
    "\n",
    "# the training logic is in the keras_mnist.py file.\n",
    "shutil.copy('./keras_mnist.py', script_folder)\n",
    "\n",
    "# the utils.py just helps loading data from the downloaded MNIST dataset into numpy arrays.\n",
    "shutil.copy('./utils.py', script_folder)"
   ]
  },
  {
   "cell_type": "markdown",
   "metadata": {
    "nbpresent": {
     "id": "2039d2d5-aca6-4f25-a12f-df9ae6529cae"
    }
   },
   "source": [
    "## Construct neural network in Keras\n",
    "In the training script `keras_mnist.py`, it creates a very simple DNN (deep neural network), with just 2 hidden layers. The input layer has 28 * 28 = 784 neurons, each representing a pixel in an image. The first hidden layer has 300 neurons, and the second hidden layer has 100 neurons. The output layer has 10 neurons, each representing a targeted label from 0 to 9.\n",
    "\n",
    "![DNN](nn.png)"
   ]
  },
  {
   "cell_type": "markdown",
   "metadata": {},
   "source": [
    "### Azure ML concepts  \n",
    "Please note the following three things in the code below:\n",
    "1. The script accepts arguments using the argparse package. In this case there is one argument `--data_folder` which specifies the file system folder in which the script can find the MNIST data\n",
    "```\n",
    "    parser = argparse.ArgumentParser()\n",
    "    parser.add_argument('--data_folder')\n",
    "```\n",
    "2. The script is accessing the Azure ML `Run` object by executing `run = Run.get_context()`. Further down the script is using the `run` to report the loss and accuracy at the end of each epoch via callback.\n",
    "```\n",
    "    run.log('Loss', log['loss'])\n",
    "    run.log('Accuracy', log['acc'])\n",
    "```\n",
    "3. When running the script on Azure ML, you can write files out to a folder `./outputs` that is relative to the root directory. This folder is specially tracked by Azure ML in the sense that any files written to that folder during script execution on the remote target will be picked up by Run History; these files (known as artifacts) will be available as part of the run history record."
   ]
  },
  {
   "cell_type": "markdown",
   "metadata": {},
   "source": [
    "The next cell will print out the training code for you to inspect."
   ]
  },
  {
   "cell_type": "code",
   "execution_count": 12,
   "metadata": {},
   "outputs": [
    {
     "name": "stdout",
     "output_type": "stream",
     "text": [
      "# Copyright (c) Microsoft Corporation. All rights reserved.\n",
      "# Licensed under the MIT License.\n",
      "\n",
      "import numpy as np\n",
      "import argparse\n",
      "import os\n",
      "\n",
      "import matplotlib.pyplot as plt\n",
      "\n",
      "import keras\n",
      "from keras.models import Sequential, model_from_json\n",
      "from keras.layers import Dense\n",
      "from keras.optimizers import RMSprop\n",
      "from keras.callbacks import Callback\n",
      "\n",
      "import tensorflow as tf\n",
      "\n",
      "from azureml.core import Run\n",
      "from utils import load_data, one_hot_encode\n",
      "\n",
      "print(\"Keras version:\", keras.__version__)\n",
      "print(\"Tensorflow version:\", tf.__version__)\n",
      "\n",
      "parser = argparse.ArgumentParser()\n",
      "parser.add_argument('--data-folder', type=str, dest='data_folder', help='data folder mounting point')\n",
      "parser.add_argument('--batch-size', type=int, dest='batch_size', default=50, help='mini batch size for training')\n",
      "parser.add_argument('--first-layer-neurons', type=int, dest='n_hidden_1', default=100,\n",
      "                    help='# of neurons in the first layer')\n",
      "parser.add_argument('--second-layer-neurons', type=int, dest='n_hidden_2', default=100,\n",
      "                    help='# of neurons in the second layer')\n",
      "parser.add_argument('--learning-rate', type=float, dest='learning_rate', default=0.001, help='learning rate')\n",
      "\n",
      "args = parser.parse_args()\n",
      "\n",
      "data_folder = args.data_folder\n",
      "\n",
      "print('training dataset is stored here:', data_folder)\n",
      "\n",
      "X_train = load_data(os.path.join(data_folder, 'train-images.gz'), False) / 255.0\n",
      "X_test = load_data(os.path.join(data_folder, 'test-images.gz'), False) / 255.0\n",
      "\n",
      "y_train = load_data(os.path.join(data_folder, 'train-labels.gz'), True).reshape(-1)\n",
      "y_test = load_data(os.path.join(data_folder, 'test-labels.gz'), True).reshape(-1)\n",
      "\n",
      "training_set_size = X_train.shape[0]\n",
      "\n",
      "n_inputs = 28 * 28\n",
      "n_h1 = args.n_hidden_1\n",
      "n_h2 = args.n_hidden_2\n",
      "n_outputs = 10\n",
      "n_epochs = 20\n",
      "batch_size = args.batch_size\n",
      "learning_rate = args.learning_rate\n",
      "\n",
      "y_train = one_hot_encode(y_train, n_outputs)\n",
      "y_test = one_hot_encode(y_test, n_outputs)\n",
      "print(X_train.shape, y_train.shape, X_test.shape, y_test.shape, sep='\\n')\n",
      "\n",
      "# Build a simple MLP model\n",
      "model = Sequential()\n",
      "# first hidden layer\n",
      "model.add(Dense(n_h1, activation='relu', input_shape=(n_inputs,)))\n",
      "# second hidden layer\n",
      "model.add(Dense(n_h2, activation='relu'))\n",
      "# output layer\n",
      "model.add(Dense(n_outputs, activation='softmax'))\n",
      "\n",
      "model.summary()\n",
      "\n",
      "model.compile(loss='categorical_crossentropy',\n",
      "              optimizer=RMSprop(lr=learning_rate),\n",
      "              metrics=['accuracy'])\n",
      "\n",
      "# start an Azure ML run\n",
      "run = Run.get_context()\n",
      "\n",
      "\n",
      "class LogRunMetrics(Callback):\n",
      "    # callback at the end of every epoch\n",
      "    def on_epoch_end(self, epoch, log):\n",
      "        # log a value repeated which creates a list\n",
      "        run.log('Loss', log['loss'])\n",
      "        run.log('Accuracy', log['acc'])\n",
      "\n",
      "\n",
      "history = model.fit(X_train, y_train,\n",
      "                    batch_size=batch_size,\n",
      "                    epochs=n_epochs,\n",
      "                    verbose=2,\n",
      "                    validation_data=(X_test, y_test),\n",
      "                    callbacks=[LogRunMetrics()])\n",
      "\n",
      "score = model.evaluate(X_test, y_test, verbose=0)\n",
      "\n",
      "# log a single value\n",
      "run.log(\"Final test loss\", score[0])\n",
      "print('Test loss:', score[0])\n",
      "\n",
      "run.log('Final test accuracy', score[1])\n",
      "print('Test accuracy:', score[1])\n",
      "\n",
      "plt.figure(figsize=(6, 3))\n",
      "plt.title('MNIST with Keras MLP ({} epochs)'.format(n_epochs), fontsize=14)\n",
      "plt.plot(history.history['acc'], 'b-', label='Accuracy', lw=4, alpha=0.5)\n",
      "plt.plot(history.history['loss'], 'r--', label='Loss', lw=4, alpha=0.5)\n",
      "plt.legend(fontsize=12)\n",
      "plt.grid(True)\n",
      "\n",
      "# log an image\n",
      "run.log_image('Accuracy vs Loss', plot=plt)\n",
      "\n",
      "# create a ./outputs/model folder in the compute target\n",
      "# files saved in the \"./outputs\" folder are automatically uploaded into run history\n",
      "os.makedirs('./outputs/model', exist_ok=True)\n",
      "\n",
      "# serialize NN architecture to JSON\n",
      "model_json = model.to_json()\n",
      "# save model JSON\n",
      "with open('./outputs/model/model.json', 'w') as f:\n",
      "    f.write(model_json)\n",
      "# save model weights\n",
      "model.save_weights('./outputs/model/model.h5')\n",
      "print(\"model saved in ./outputs/model folder\")\n",
      "\n"
     ]
    }
   ],
   "source": [
    "with open(os.path.join(script_folder, './keras_mnist.py'), 'r') as f:\n",
    "    print(f.read())"
   ]
  },
  {
   "cell_type": "markdown",
   "metadata": {},
   "source": [
    "## Create TensorFlow estimator & add Keras\n",
    "Next, we construct an `azureml.train.dnn.TensorFlow` estimator object, use the `gpu-cluster` as compute target, and pass the mount-point of the datastore to the training code as a parameter.\n",
    "The TensorFlow estimator is providing a simple way of launching a TensorFlow training job on a compute target. It will automatically provide a docker image that has TensorFlow installed. In this case, we add `keras` package (for the Keras framework obviously), and `matplotlib` package for plotting a \"Loss vs. Accuracy\" chart and record it in run history."
   ]
  },
  {
   "cell_type": "code",
   "execution_count": 13,
   "metadata": {},
   "outputs": [
    {
     "name": "stderr",
     "output_type": "stream",
     "text": [
      "WARNING - 'gpu_support' is no longer necessary; AzureML now automatically detects and uses nvidia docker extension when it is available. It will be removed in a future release.\n",
      "WARNING - 'gpu_support' is no longer necessary; AzureML now automatically detects and uses nvidia docker extension when it is available. It will be removed in a future release.\n",
      "WARNING - framework_version is not specified, defaulting to version 1.13.\n"
     ]
    }
   ],
   "source": [
    "from azureml.train.dnn import TensorFlow\n",
    "\n",
    "script_params = {\n",
    "    '--data-folder': ds.path('mnist').as_mount(),\n",
    "    '--batch-size': 50,\n",
    "    '--first-layer-neurons': 300,\n",
    "    '--second-layer-neurons': 100,\n",
    "    '--learning-rate': 0.001\n",
    "}\n",
    "\n",
    "est = TensorFlow(source_directory=script_folder,\n",
    "                 script_params=script_params,\n",
    "                 compute_target=compute_target, \n",
    "                 pip_packages=['keras', 'matplotlib', 'tensorflow'],\n",
    "                 entry_script='keras_mnist.py', \n",
    "                 use_gpu=True)"
   ]
  },
  {
   "cell_type": "markdown",
   "metadata": {},
   "source": [
    "And if you are curious, this is what the mounting point looks like:"
   ]
  },
  {
   "cell_type": "code",
   "execution_count": 14,
   "metadata": {},
   "outputs": [
    {
     "name": "stdout",
     "output_type": "stream",
     "text": [
      "$AZUREML_DATAREFERENCE_12cd19b7063544e6af14545b9debf306\n"
     ]
    }
   ],
   "source": [
    "print(ds.path('mnist').as_mount())"
   ]
  },
  {
   "cell_type": "markdown",
   "metadata": {},
   "source": [
    "## Submit job to run\n",
    "Submit the estimator to the Azure ML experiment to kick off the execution."
   ]
  },
  {
   "cell_type": "code",
   "execution_count": 15,
   "metadata": {},
   "outputs": [
    {
     "name": "stderr",
     "output_type": "stream",
     "text": [
      "WARNING - 'gpu_support' is no longer necessary; AzureML now automatically detects and uses nvidia docker extension when it is available. It will be removed in a future release.\n"
     ]
    }
   ],
   "source": [
    "run = exp.submit(est)"
   ]
  },
  {
   "cell_type": "markdown",
   "metadata": {},
   "source": [
    "### Monitor the Run\n",
    "As the Run is executed, it will go through the following stages:\n",
    "1. Preparing: A docker image is created matching the Python environment specified by the TensorFlow estimator and it will be uploaded to the workspace's Azure Container Registry. This step will only happen once for each Python environment -- the container will then be cached for subsequent runs. Creating and uploading the image takes about **5 minutes**. While the job is preparing, logs are streamed to the run history and can be viewed to monitor the progress of the image creation.\n",
    "\n",
    "2. Scaling: If the compute needs to be scaled up (i.e. the AmlCompute cluster requires more nodes to execute the run than currently available), the cluster will attempt to scale up in order to make the required amount of nodes available. Scaling typically takes about **5 minutes**.\n",
    "\n",
    "3. Running: All scripts in the script folder are uploaded to the compute target, data stores are mounted/copied and the `entry_script` is executed. While the job is running, stdout and the `./logs` folder are streamed to the run history and can be viewed to monitor the progress of the run.\n",
    "\n",
    "4. Post-Processing: The `./outputs` folder of the run is copied over to the run history\n",
    "\n",
    "There are multiple ways to check the progress of a running job. We can use a Jupyter notebook widget. \n",
    "\n",
    "**Note: The widget will automatically update ever 10-15 seconds, always showing you the most up-to-date information about the run**"
   ]
  },
  {
   "cell_type": "code",
   "execution_count": 16,
   "metadata": {},
   "outputs": [
    {
     "data": {
      "application/vnd.jupyter.widget-view+json": {
       "model_id": "394ecd5877b54b9a8d0022a7d174eee8",
       "version_major": 2,
       "version_minor": 0
      },
      "text/plain": [
       "A Jupyter Widget"
      ]
     },
     "metadata": {},
     "output_type": "display_data"
    }
   ],
   "source": [
    "from azureml.widgets import RunDetails\n",
    "RunDetails(run).show()"
   ]
  },
  {
   "cell_type": "markdown",
   "metadata": {},
   "source": [
    "We can also periodically check the status of the run object, and navigate to Azure portal to monitor the run."
   ]
  },
  {
   "cell_type": "code",
   "execution_count": 17,
   "metadata": {},
   "outputs": [
    {
     "data": {
      "text/html": [
       "<table style=\"width:100%\"><tr><th>Experiment</th><th>Id</th><th>Type</th><th>Status</th><th>Details Page</th><th>Docs Page</th></tr><tr><td>keras-mnist</td><td>keras-mnist_1568991089_5b120cd5</td><td>azureml.scriptrun</td><td>Starting</td><td><a href=\"https://mlworkspace.azure.ai/portal/subscriptions/51799227-bd67-4e34-96c2-fa93ef5da18d/resourceGroups/tom/providers/Microsoft.MachineLearningServices/workspaces/dl01/experiments/keras-mnist/runs/keras-mnist_1568991089_5b120cd5\" target=\"_blank\" rel=\"noopener\">Link to Azure Portal</a></td><td><a href=\"https://docs.microsoft.com/en-us/python/api/azureml-core/azureml.core.script_run.ScriptRun?view=azure-ml-py\" target=\"_blank\" rel=\"noopener\">Link to Documentation</a></td></tr></table>"
      ],
      "text/plain": [
       "Run(Experiment: keras-mnist,\n",
       "Id: keras-mnist_1568991089_5b120cd5,\n",
       "Type: azureml.scriptrun,\n",
       "Status: Starting)"
      ]
     },
     "execution_count": 17,
     "metadata": {},
     "output_type": "execute_result"
    }
   ],
   "source": [
    "run"
   ]
  },
  {
   "cell_type": "code",
   "execution_count": 18,
   "metadata": {},
   "outputs": [
    {
     "name": "stdout",
     "output_type": "stream",
     "text": [
      "RunId: keras-mnist_1568991089_5b120cd5\n",
      "Web View: https://mlworkspace.azure.ai/portal/subscriptions/51799227-bd67-4e34-96c2-fa93ef5da18d/resourceGroups/tom/providers/Microsoft.MachineLearningServices/workspaces/dl01/experiments/keras-mnist/runs/keras-mnist_1568991089_5b120cd5\n",
      "\n",
      "Streaming azureml-logs/20_image_build_log.txt\n",
      "=============================================\n",
      "\n",
      "2019/09/20 14:51:39 Downloading source code...\n",
      "2019/09/20 14:51:40 Finished downloading source code\n",
      "2019/09/20 14:51:40 Using acb_vol_750d1933-9b3a-4dd1-aae8-e3efddeb817b as the home volume\n",
      "2019/09/20 14:51:40 Creating Docker network: acb_default_network, driver: 'bridge'\n",
      "2019/09/20 14:51:41 Successfully set up Docker network: acb_default_network\n",
      "2019/09/20 14:51:41 Setting up Docker configuration...\n",
      "2019/09/20 14:51:42 Successfully set up Docker configuration\n",
      "2019/09/20 14:51:42 Logging in to registry: dl010bb5918d.azurecr.io\n",
      "2019/09/20 14:51:43 Successfully logged into dl010bb5918d.azurecr.io\n",
      "2019/09/20 14:51:43 Executing step ID: acb_step_0. Timeout(sec): 5400, Working directory: '', Network: 'acb_default_network'\n",
      "2019/09/20 14:51:43 Scanning for dependencies...\n",
      "2019/09/20 14:51:44 Successfully scanned dependencies\n",
      "2019/09/20 14:51:44 Launching container with name: acb_step_0\n",
      "Sending build context to Docker daemon  59.39kB\n",
      "\n",
      "Step 1/14 : FROM mcr.microsoft.com/azureml/base-gpu:intelmpi2018.3-cuda10.0-cudnn7-ubuntu16.04@sha256:9045cd63c42d12f6c732cd38362c35611bae1b31a0645372f8d0b91d326ca62b\n",
      "sha256:9045cd63c42d12f6c732cd38362c35611bae1b31a0645372f8d0b91d326ca62b: Pulling from azureml/base-gpu\n",
      "f7277927d38a: Already exists\n",
      "8d3eac894db4: Already exists\n",
      "edf72af6d627: Already exists\n",
      "3e4f86211d23: Already exists\n",
      "d6e9603ff777: Pulling fs layer\n",
      "5cad422780e2: Pulling fs layer\n",
      "8130687c8acb: Pulling fs layer\n",
      "c11e9246d621: Pulling fs layer\n",
      "0dfae24cbbd9: Pulling fs layer\n",
      "0bb049a6d391: Pulling fs layer\n",
      "66aee8ec50f8: Pulling fs layer\n",
      "87cd74ffb32f: Pulling fs layer\n",
      "ac456d3b234e: Pulling fs layer\n",
      "acefe84b1320: Pulling fs layer\n",
      "9a00af919ea2: Pulling fs layer\n",
      "426a5b083132: Pulling fs layer\n",
      "314504d70d01: Pulling fs layer\n",
      "c11e9246d621: Waiting\n",
      "0dfae24cbbd9: Waiting\n",
      "0bb049a6d391: Waiting\n",
      "66aee8ec50f8: Waiting\n",
      "87cd74ffb32f: Waiting\n",
      "ac456d3b234e: Waiting\n",
      "acefe84b1320: Waiting\n",
      "9a00af919ea2: Waiting\n",
      "426a5b083132: Waiting\n",
      "314504d70d01: Waiting\n",
      "8130687c8acb: Verifying Checksum\n",
      "8130687c8acb: Download complete\n",
      "d6e9603ff777: Download complete\n",
      "5cad422780e2: Verifying Checksum\n",
      "5cad422780e2: Download complete\n",
      "d6e9603ff777: Pull complete\n",
      "5cad422780e2: Pull complete\n",
      "8130687c8acb: Pull complete\n",
      "0bb049a6d391: Verifying Checksum\n",
      "0bb049a6d391: Download complete\n",
      "66aee8ec50f8: Verifying Checksum\n",
      "66aee8ec50f8: Download complete\n",
      "87cd74ffb32f: Verifying Checksum\n",
      "87cd74ffb32f: Download complete\n",
      "ac456d3b234e: Verifying Checksum\n",
      "ac456d3b234e: Download complete\n",
      "c11e9246d621: Verifying Checksum\n",
      "c11e9246d621: Download complete\n",
      "acefe84b1320: Verifying Checksum\n",
      "acefe84b1320: Download complete\n",
      "426a5b083132: Verifying Checksum\n",
      "426a5b083132: Download complete\n",
      "314504d70d01: Verifying Checksum\n",
      "314504d70d01: Download complete\n",
      "0dfae24cbbd9: Verifying Checksum\n",
      "0dfae24cbbd9: Download complete\n",
      "9a00af919ea2: Verifying Checksum\n",
      "9a00af919ea2: Download complete\n",
      "c11e9246d621: Pull complete\n",
      "0dfae24cbbd9: Pull complete\n",
      "0bb049a6d391: Pull complete\n",
      "66aee8ec50f8: Pull complete\n",
      "87cd74ffb32f: Pull complete\n",
      "ac456d3b234e: Pull complete\n",
      "acefe84b1320: Pull complete\n",
      "9a00af919ea2: Pull complete\n",
      "426a5b083132: Pull complete\n",
      "314504d70d01: Pull complete\n",
      "Digest: sha256:9045cd63c42d12f6c732cd38362c35611bae1b31a0645372f8d0b91d326ca62b\n",
      "Status: Downloaded newer image for mcr.microsoft.com/azureml/base-gpu:intelmpi2018.3-cuda10.0-cudnn7-ubuntu16.04@sha256:9045cd63c42d12f6c732cd38362c35611bae1b31a0645372f8d0b91d326ca62b\n",
      " ---> 157cd0379296\n",
      "Step 2/14 : USER root\n",
      " ---> Running in 5b77db1ca934\n",
      "Removing intermediate container 5b77db1ca934\n",
      " ---> 27f5df76cabc\n",
      "Step 3/14 : RUN mkdir -p $HOME/.cache\n",
      " ---> Running in dfc9bb15195a\n",
      "Removing intermediate container dfc9bb15195a\n",
      " ---> 7a8fce9bc12f\n",
      "Step 4/14 : WORKDIR /\n",
      " ---> Running in 52ee5f503ff8\n",
      "Removing intermediate container 52ee5f503ff8\n",
      " ---> 359b5407a59f\n",
      "Step 5/14 : COPY azureml-environment-setup/99brokenproxy /etc/apt/apt.conf.d/\n",
      " ---> 9e123895054c\n",
      "Step 6/14 : RUN if dpkg --compare-versions `conda --version | grep -oE '[^ ]+$'` lt 4.4.11; then conda install conda==4.4.11; fi\n",
      " ---> Running in e2b292b27864\n",
      "Removing intermediate container e2b292b27864\n",
      " ---> 47fed85b07e0\n",
      "Step 7/14 : COPY azureml-environment-setup/mutated_conda_dependencies.yml azureml-environment-setup/mutated_conda_dependencies.yml\n",
      " ---> 5614d322f3d9\n",
      "Step 8/14 : RUN ldconfig /usr/local/cuda/lib64/stubs && conda env create -p /azureml-envs/azureml_3a2fad361c43dd9258fd40070cb241c4 -f azureml-environment-setup/mutated_conda_dependencies.yml && rm -rf \"$HOME/.cache/pip\" && conda clean -aqy && CONDA_ROOT_DIR=$(conda info --root) && rm -rf \"$CONDA_ROOT_DIR/pkgs\" && find \"$CONDA_ROOT_DIR\" -type d -name __pycache__ -exec rm -rf {} + && ldconfig\n",
      " ---> Running in 0a7344248272\n",
      "Solving environment: ...working... done\n",
      "\u001b[91m\n",
      "\n",
      "==> WARNING: A newer version of conda exists. <==\n",
      "  current version: 4.5.11\n",
      "  latest version: 4.7.12\n",
      "\n",
      "Please update conda by running\n",
      "\n",
      "    $ conda update -n base -c defaults conda\n",
      "\n",
      "\n",
      "\n",
      "certifi-2019.9.11    | 147 KB    |            |   0% \u001b[0m\u001b[91m\n",
      "certifi-2019.9.11    | 147 KB    | ########## | 100% \u001b[0m\u001b[91m\n",
      "\n",
      "_libgcc_mutex-0.1    | 3 KB      |            |   0% \u001b[0m\u001b[91m\n",
      "_libgcc_mutex-0.1    | 3 KB      | ########## | 100% \u001b[0m\u001b[91m\n",
      "\n",
      "libgcc-ng-9.1.0      | 8.1 MB    |            |   0% \u001b[0m\u001b[91m\n",
      "libgcc-ng-9.1.0      | 8.1 MB    | #####8     |  59% \u001b[0m\u001b[91m\n",
      "libgcc-ng-9.1.0      | 8.1 MB    | #######6   |  77% \u001b[0m\u001b[91m\n",
      "libgcc-ng-9.1.0      | 8.1 MB    | #########3 |  94% \u001b[0m\u001b[91m\n",
      "libgcc-ng-9.1.0      | 8.1 MB    | ########## | 100% \u001b[0m\u001b[91m\n",
      "\n",
      "readline-6.2         | 713 KB    |            |   0% \u001b[0m\u001b[91m\n",
      "readline-6.2         | 713 KB    | ########3  |  83% \u001b[0m\u001b[91m\n",
      "readline-6.2         | 713 KB    | ########## | 100% \u001b[0m\u001b[91m\n",
      "\n",
      "ncurses-5.9          | 1.1 MB    |            |   0% \u001b[0m\u001b[91m\n",
      "ncurses-5.9          | 1.1 MB    | #######8   |  79% \u001b[0m\u001b[91m\n",
      "ncurses-5.9          | 1.1 MB    | ########7  |  88% \u001b[0m\u001b[91m\n",
      "ncurses-5.9          | 1.1 MB    | #########7 |  97% \u001b[0m\u001b[91m\n",
      "ncurses-5.9          | 1.1 MB    | ########## | 100% \u001b[0m\u001b[91m\n",
      "\n",
      "sqlite-3.13.0        | 4.9 MB    |            |   0% \u001b[0m\u001b[91m\n",
      "sqlite-3.13.0        | 4.9 MB    | #######5   |  75% \u001b[0m\u001b[91m\n",
      "sqlite-3.13.0        | 4.9 MB    | #########7 |  98% \u001b[0m\u001b[91m\n",
      "sqlite-3.13.0        | 4.9 MB    | ########## | 100% \u001b[0m\u001b[91m\n",
      "\n",
      "pip-19.2.3           | 1.9 MB    |            |   0% \u001b[0m\u001b[91m\n",
      "pip-19.2.3           | 1.9 MB    | #######7   |  77% \u001b[0m\u001b[91m\n",
      "pip-19.2.3           | 1.9 MB    | #########1 |  91% \u001b[0m\u001b[91m\n",
      "pip-19.2.3           | 1.9 MB    | ########## | 100% \u001b[0m\u001b[91m\n",
      "\n",
      "openssl-1.0.2r       | 3.1 MB    |            |   0% \u001b[0m\u001b[91m\n",
      "openssl-1.0.2r       | 3.1 MB    | #######6   |  77% \u001b[0m\u001b[91m\n",
      "openssl-1.0.2r       | 3.1 MB    | #########9 | 100% \u001b[0m\u001b[91m\n",
      "openssl-1.0.2r       | 3.1 MB    | ########## | 100% \u001b[0m\u001b[91m\n",
      "\n",
      "wheel-0.33.6         | 35 KB     |            |   0% \u001b[0m\u001b[91m\n",
      "wheel-0.33.6         | 35 KB     | ########## | 100% \u001b[0m\u001b[91m\n",
      "\n",
      "python-3.6.2         | 19.0 MB   |            |   0% \u001b[0m\u001b[91m\n",
      "python-3.6.2         | 19.0 MB   | ##1        |  22% \u001b[0m\u001b[91m\n",
      "python-3.6.2         | 19.0 MB   | #####4     |  55% \u001b[0m\u001b[91m\n",
      "python-3.6.2         | 19.0 MB   | #######5   |  75% \u001b[0m\u001b[91m\n",
      "python-3.6.2         | 19.0 MB   | ########8  |  88% \u001b[0m\u001b[91m\n",
      "python-3.6.2         | 19.0 MB   | #########7 |  97% \u001b[0m\u001b[91m\n",
      "python-3.6.2         | 19.0 MB   | ########## | 100% \u001b[0m\u001b[91m\n",
      "\n",
      "tk-8.5.19            | 1.9 MB    |            |   0% \u001b[0m\u001b[91m\n",
      "tk-8.5.19            | 1.9 MB    | #######7   |  78% \u001b[0m\u001b[91m\n",
      "tk-8.5.19            | 1.9 MB    | ########9  |  89% \u001b[0m\u001b[91m\n",
      "tk-8.5.19            | 1.9 MB    | #########8 |  99% \u001b[0m\u001b[91m\n",
      "tk-8.5.19            | 1.9 MB    | ########## | 100% \u001b[0m\u001b[91m\n",
      "\n",
      "setuptools-41.2.0    | 634 KB    |            |   0% \u001b[0m\u001b[91m\n",
      "setuptools-41.2.0    | 634 KB    | ########5  |  85% \u001b[0m\u001b[91m\n",
      "setuptools-41.2.0    | 634 KB    | ########## | 100% \u001b[0m\u001b[91m\n",
      "\n",
      "ca-certificates-2019 | 144 KB    |            |   0% \u001b[0m\u001b[91m\n",
      "ca-certificates-2019 | 144 KB    | ########## | 100% \u001b[0m\u001b[91m\n",
      "\n",
      "zlib-1.2.11          | 105 KB    |            |   0% \u001b[0m\u001b[91m\n",
      "zlib-1.2.11          | 105 KB    | ########## | 100% \u001b[0m\u001b[91m\n",
      "\n",
      "xz-5.2.4             | 366 KB    |            |   0% \u001b[0m\u001b[91m\n",
      "xz-5.2.4             | 366 KB    | #########4 |  95% \u001b[0m\u001b[91m\n",
      "xz-5.2.4             | 366 KB    | ########## | 100% \u001b[0m\n",
      "Downloading and Extracting Packages\n",
      "Preparing transaction: ...working... done\n",
      "Verifying transaction: ...working... done\n",
      "Executing transaction: ...working... done\n",
      "Collecting keras (from -r /azureml-environment-setup/condaenv._51zuk55.requirements.txt (line 1))\n",
      "  Downloading https://files.pythonhosted.org/packages/1b/18/2e1ef121e5560ac24c7ac9e363aa5fa7006c40563c989e7211aba95b793a/Keras-2.3.0-py2.py3-none-any.whl (377kB)\n",
      "Collecting matplotlib (from -r /azureml-environment-setup/condaenv._51zuk55.requirements.txt (line 2))\n",
      "  Downloading https://files.pythonhosted.org/packages/57/4f/dd381ecf6c6ab9bcdaa8ea912e866dedc6e696756156d8ecc087e20817e2/matplotlib-3.1.1-cp36-cp36m-manylinux1_x86_64.whl (13.1MB)\n",
      "Collecting tensorflow (from -r /azureml-environment-setup/condaenv._51zuk55.requirements.txt (line 3))\n",
      "  Downloading https://files.pythonhosted.org/packages/de/f0/96fb2e0412ae9692dbf400e5b04432885f677ad6241c088ccc5fe7724d69/tensorflow-1.14.0-cp36-cp36m-manylinux1_x86_64.whl (109.2MB)\n",
      "Collecting azureml-defaults (from -r /azureml-environment-setup/condaenv._51zuk55.requirements.txt (line 4))\n",
      "  Downloading https://files.pythonhosted.org/packages/e9/d3/39dac169675ff18180f41359f464c37c75ddfec8c1e9618438f40da98e26/azureml_defaults-1.0.62-py2.py3-none-any.whl\n",
      "Collecting tensorflow-gpu==1.13.1 (from -r /azureml-environment-setup/condaenv._51zuk55.requirements.txt (line 5))\n",
      "  Downloading https://files.pythonhosted.org/packages/7b/b1/0ad4ae02e17ddd62109cd54c291e311c4b5fd09b4d0678d3d6ce4159b0f0/tensorflow_gpu-1.13.1-cp36-cp36m-manylinux1_x86_64.whl (345.2MB)\n",
      "Collecting horovod==0.16.1 (from -r /azureml-environment-setup/condaenv._51zuk55.requirements.txt (line 6))\n",
      "  Downloading https://files.pythonhosted.org/packages/89/70/327e1ce9bee0fb8a879b98f8265fb7a41ae6d04a3ee019b2bafba8b66333/horovod-0.16.1.tar.gz (2.6MB)\n",
      "Collecting numpy>=1.9.1 (from keras->-r /azureml-environment-setup/condaenv._51zuk55.requirements.txt (line 1))\n",
      "  Downloading https://files.pythonhosted.org/packages/e5/e6/c3fdc53aed9fa19d6ff3abf97dfad768ae3afce1b7431f7500000816bda5/numpy-1.17.2-cp36-cp36m-manylinux1_x86_64.whl (20.4MB)\n",
      "Collecting scipy>=0.14 (from keras->-r /azureml-environment-setup/condaenv._51zuk55.requirements.txt (line 1))\n",
      "  Downloading https://files.pythonhosted.org/packages/29/50/a552a5aff252ae915f522e44642bb49a7b7b31677f9580cfd11bcc869976/scipy-1.3.1-cp36-cp36m-manylinux1_x86_64.whl (25.2MB)\n",
      "Collecting keras-applications>=1.0.6 (from keras->-r /azureml-environment-setup/condaenv._51zuk55.requirements.txt (line 1))\n",
      "  Downloading https://files.pythonhosted.org/packages/71/e3/19762fdfc62877ae9102edf6342d71b28fbfd9dea3d2f96a882ce099b03f/Keras_Applications-1.0.8-py3-none-any.whl (50kB)\n",
      "Collecting pyyaml (from keras->-r /azureml-environment-setup/condaenv._51zuk55.requirements.txt (line 1))\n",
      "  Downloading https://files.pythonhosted.org/packages/e3/e8/b3212641ee2718d556df0f23f78de8303f068fe29cdaa7a91018849582fe/PyYAML-5.1.2.tar.gz (265kB)\n",
      "Collecting six>=1.9.0 (from keras->-r /azureml-environment-setup/condaenv._51zuk55.requirements.txt (line 1))\n",
      "  Downloading https://files.pythonhosted.org/packages/73/fb/00a976f728d0d1fecfe898238ce23f502a721c0ac0ecfedb80e0d88c64e9/six-1.12.0-py2.py3-none-any.whl\n",
      "Collecting keras-preprocessing>=1.0.5 (from keras->-r /azureml-environment-setup/condaenv._51zuk55.requirements.txt (line 1))\n",
      "  Downloading https://files.pythonhosted.org/packages/28/6a/8c1f62c37212d9fc441a7e26736df51ce6f0e38455816445471f10da4f0a/Keras_Preprocessing-1.1.0-py2.py3-none-any.whl (41kB)\n",
      "Collecting h5py (from keras->-r /azureml-environment-setup/condaenv._51zuk55.requirements.txt (line 1))\n",
      "  Downloading https://files.pythonhosted.org/packages/60/06/cafdd44889200e5438b897388f3075b52a8ef01f28a17366d91de0fa2d05/h5py-2.10.0-cp36-cp36m-manylinux1_x86_64.whl (2.9MB)\n",
      "Collecting python-dateutil>=2.1 (from matplotlib->-r /azureml-environment-setup/condaenv._51zuk55.requirements.txt (line 2))\n",
      "  Downloading https://files.pythonhosted.org/packages/41/17/c62faccbfbd163c7f57f3844689e3a78bae1f403648a6afb1d0866d87fbb/python_dateutil-2.8.0-py2.py3-none-any.whl (226kB)\n",
      "Collecting pyparsing!=2.0.4,!=2.1.2,!=2.1.6,>=2.0.1 (from matplotlib->-r /azureml-environment-setup/condaenv._51zuk55.requirements.txt (line 2))\n",
      "  Downloading https://files.pythonhosted.org/packages/11/fa/0160cd525c62d7abd076a070ff02b2b94de589f1a9789774f17d7c54058e/pyparsing-2.4.2-py2.py3-none-any.whl (65kB)\n",
      "Collecting kiwisolver>=1.0.1 (from matplotlib->-r /azureml-environment-setup/condaenv._51zuk55.requirements.txt (line 2))\n",
      "  Downloading https://files.pythonhosted.org/packages/f8/a1/5742b56282449b1c0968197f63eae486eca2c35dcd334bab75ad524e0de1/kiwisolver-1.1.0-cp36-cp36m-manylinux1_x86_64.whl (90kB)\n",
      "Collecting cycler>=0.10 (from matplotlib->-r /azureml-environment-setup/condaenv._51zuk55.requirements.txt (line 2))\n",
      "  Downloading https://files.pythonhosted.org/packages/f7/d2/e07d3ebb2bd7af696440ce7e754c59dd546ffe1bbe732c8ab68b9c834e61/cycler-0.10.0-py2.py3-none-any.whl\n",
      "Collecting grpcio>=1.8.6 (from tensorflow->-r /azureml-environment-setup/condaenv._51zuk55.requirements.txt (line 3))\n",
      "  Downloading https://files.pythonhosted.org/packages/30/31/6397193572c081e0fd1fec86a7a6b7ac497c27226281e7cb32f8c3705069/grpcio-1.23.0-cp36-cp36m-manylinux1_x86_64.whl (2.2MB)\n",
      "Collecting absl-py>=0.7.0 (from tensorflow->-r /azureml-environment-setup/condaenv._51zuk55.requirements.txt (line 3))\n",
      "  Downloading https://files.pythonhosted.org/packages/3c/0d/7cbf64cac3f93617a2b6b079c0182e4a83a3e7a8964d3b0cc3d9758ba002/absl-py-0.8.0.tar.gz (102kB)\n",
      "Collecting tensorflow-estimator<1.15.0rc0,>=1.14.0rc0 (from tensorflow->-r /azureml-environment-setup/condaenv._51zuk55.requirements.txt (line 3))\n",
      "  Downloading https://files.pythonhosted.org/packages/3c/d5/21860a5b11caf0678fbc8319341b0ae21a07156911132e0e71bffed0510d/tensorflow_estimator-1.14.0-py2.py3-none-any.whl (488kB)\n",
      "Collecting google-pasta>=0.1.6 (from tensorflow->-r /azureml-environment-setup/condaenv._51zuk55.requirements.txt (line 3))\n",
      "  Downloading https://files.pythonhosted.org/packages/d0/33/376510eb8d6246f3c30545f416b2263eee461e40940c2a4413c711bdf62d/google_pasta-0.1.7-py3-none-any.whl (52kB)\n",
      "Requirement already satisfied: wheel>=0.26 in /azureml-envs/azureml_3a2fad361c43dd9258fd40070cb241c4/lib/python3.6/site-packages (from tensorflow->-r /azureml-environment-setup/condaenv._51zuk55.requirements.txt (line 3)) (0.33.6)\n",
      "Collecting protobuf>=3.6.1 (from tensorflow->-r /azureml-environment-setup/condaenv._51zuk55.requirements.txt (line 3))\n",
      "  Downloading https://files.pythonhosted.org/packages/eb/f4/a27952733796330cd17c17ea1f974459f5fefbbad119c0f296a6d807fec3/protobuf-3.9.1-cp36-cp36m-manylinux1_x86_64.whl (1.2MB)\n",
      "Collecting tensorboard<1.15.0,>=1.14.0 (from tensorflow->-r /azureml-environment-setup/condaenv._51zuk55.requirements.txt (line 3))\n",
      "  Downloading https://files.pythonhosted.org/packages/91/2d/2ed263449a078cd9c8a9ba50ebd50123adf1f8cfbea1492f9084169b89d9/tensorboard-1.14.0-py3-none-any.whl (3.1MB)\n",
      "Collecting wrapt>=1.11.1 (from tensorflow->-r /azureml-environment-setup/condaenv._51zuk55.requirements.txt (line 3))\n",
      "  Downloading https://files.pythonhosted.org/packages/23/84/323c2415280bc4fc880ac5050dddfb3c8062c2552b34c2e512eb4aa68f79/wrapt-1.11.2.tar.gz\n",
      "Collecting termcolor>=1.1.0 (from tensorflow->-r /azureml-environment-setup/condaenv._51zuk55.requirements.txt (line 3))\n",
      "  Downloading https://files.pythonhosted.org/packages/8a/48/a76be51647d0eb9f10e2a4511bf3ffb8cc1e6b14e9e4fab46173aa79f981/termcolor-1.1.0.tar.gz\n",
      "Collecting gast>=0.2.0 (from tensorflow->-r /azureml-environment-setup/condaenv._51zuk55.requirements.txt (line 3))\n",
      "  Downloading https://files.pythonhosted.org/packages/1f/04/4e36c33f8eb5c5b6c622a1f4859352a6acca7ab387257d4b3c191d23ec1d/gast-0.3.2.tar.gz\n",
      "Collecting astor>=0.6.0 (from tensorflow->-r /azureml-environment-setup/condaenv._51zuk55.requirements.txt (line 3))\n",
      "  Downloading https://files.pythonhosted.org/packages/d1/4f/950dfae467b384fc96bc6469de25d832534f6b4441033c39f914efd13418/astor-0.8.0-py2.py3-none-any.whl\n",
      "Collecting flask==1.0.3 (from azureml-defaults->-r /azureml-environment-setup/condaenv._51zuk55.requirements.txt (line 4))\n",
      "  Downloading https://files.pythonhosted.org/packages/9a/74/670ae9737d14114753b8c8fdf2e8bd212a05d3b361ab15b44937dfd40985/Flask-1.0.3-py2.py3-none-any.whl (92kB)\n",
      "Collecting azureml-core==1.0.62.* (from azureml-defaults->-r /azureml-environment-setup/condaenv._51zuk55.requirements.txt (line 4))\n",
      "  Downloading https://files.pythonhosted.org/packages/6b/a8/da0149186b34ae00691a3b8e8c2c78d25fd4ed2da3a9a407db99ad0075ee/azureml_core-1.0.62-py2.py3-none-any.whl (1.1MB)\n",
      "Collecting gunicorn==19.9.0 (from azureml-defaults->-r /azureml-environment-setup/condaenv._51zuk55.requirements.txt (line 4))\n",
      "  Downloading https://files.pythonhosted.org/packages/8c/da/b8dd8deb741bff556db53902d4706774c8e1e67265f69528c14c003644e6/gunicorn-19.9.0-py2.py3-none-any.whl (112kB)\n",
      "Collecting configparser==3.7.4 (from azureml-defaults->-r /azureml-environment-setup/condaenv._51zuk55.requirements.txt (line 4))\n",
      "  Downloading https://files.pythonhosted.org/packages/ba/05/6c96328e92e625fc31445d24d75a2c92ef9ba34fc5b037fe69693c362a0d/configparser-3.7.4-py2.py3-none-any.whl\n",
      "Collecting applicationinsights>=0.11.7 (from azureml-defaults->-r /azureml-environment-setup/condaenv._51zuk55.requirements.txt (line 4))\n",
      "  Downloading https://files.pythonhosted.org/packages/a1/53/234c53004f71f0717d8acd37876e0b65c121181167057b9ce1b1795f96a0/applicationinsights-0.11.9-py2.py3-none-any.whl (58kB)\n",
      "Collecting json-logging-py==0.2 (from azureml-defaults->-r /azureml-environment-setup/condaenv._51zuk55.requirements.txt (line 4))\n",
      "  Downloading https://files.pythonhosted.org/packages/e9/e1/46c70eebf216b830867c4896ee678cb7f1b28bb68a2810c7e9a811cecfbc/json-logging-py-0.2.tar.gz\n",
      "Collecting azureml-model-management-sdk==1.0.1b6.post1 (from azureml-defaults->-r /azureml-environment-setup/condaenv._51zuk55.requirements.txt (line 4))\n",
      "  Downloading https://files.pythonhosted.org/packages/4e/53/9004a1e7d6d4e796abc4bcc8286bfc2a32739c5fbac3859ca7429a228897/azureml_model_management_sdk-1.0.1b6.post1-py2.py3-none-any.whl (130kB)\n",
      "Collecting cffi>=1.4.0 (from horovod==0.16.1->-r /azureml-environment-setup/condaenv._51zuk55.requirements.txt (line 6))\n",
      "  Downloading https://files.pythonhosted.org/packages/5f/bf/6aa1925384c23ffeb579e97a5569eb9abce41b6310b329352b8252cee1c3/cffi-1.12.3-cp36-cp36m-manylinux1_x86_64.whl (430kB)\n",
      "Collecting cloudpickle (from horovod==0.16.1->-r /azureml-environment-setup/condaenv._51zuk55.requirements.txt (line 6))\n",
      "  Downloading https://files.pythonhosted.org/packages/c1/49/334e279caa3231255725c8e860fa93e72083567625573421db8875846c14/cloudpickle-1.2.2-py2.py3-none-any.whl\n",
      "Collecting psutil (from horovod==0.16.1->-r /azureml-environment-setup/condaenv._51zuk55.requirements.txt (line 6))\n",
      "  Downloading https://files.pythonhosted.org/packages/1c/ca/5b8c1fe032a458c2c4bcbe509d1401dca9dda35c7fc46b36bb81c2834740/psutil-5.6.3.tar.gz (435kB)\n",
      "Requirement already satisfied: setuptools in /azureml-envs/azureml_3a2fad361c43dd9258fd40070cb241c4/lib/python3.6/site-packages (from kiwisolver>=1.0.1->matplotlib->-r /azureml-environment-setup/condaenv._51zuk55.requirements.txt (line 2)) (41.2.0)\n",
      "Collecting markdown>=2.6.8 (from tensorboard<1.15.0,>=1.14.0->tensorflow->-r /azureml-environment-setup/condaenv._51zuk55.requirements.txt (line 3))\n",
      "  Downloading https://files.pythonhosted.org/packages/c0/4e/fd492e91abdc2d2fcb70ef453064d980688762079397f779758e055f6575/Markdown-3.1.1-py2.py3-none-any.whl (87kB)\n",
      "Collecting werkzeug>=0.11.15 (from tensorboard<1.15.0,>=1.14.0->tensorflow->-r /azureml-environment-setup/condaenv._51zuk55.requirements.txt (line 3))\n",
      "  Downloading https://files.pythonhosted.org/packages/ce/42/3aeda98f96e85fd26180534d36570e4d18108d62ae36f87694b476b83d6f/Werkzeug-0.16.0-py2.py3-none-any.whl (327kB)\n",
      "Collecting itsdangerous>=0.24 (from flask==1.0.3->azureml-defaults->-r /azureml-environment-setup/condaenv._51zuk55.requirements.txt (line 4))\n",
      "  Downloading https://files.pythonhosted.org/packages/76/ae/44b03b253d6fade317f32c24d100b3b35c2239807046a4c953c7b89fa49e/itsdangerous-1.1.0-py2.py3-none-any.whl\n",
      "Collecting Jinja2>=2.10 (from flask==1.0.3->azureml-defaults->-r /azureml-environment-setup/condaenv._51zuk55.requirements.txt (line 4))\n",
      "  Downloading https://files.pythonhosted.org/packages/1d/e7/fd8b501e7a6dfe492a433deb7b9d833d39ca74916fa8bc63dd1a4947a671/Jinja2-2.10.1-py2.py3-none-any.whl (124kB)\n",
      "Collecting click>=5.1 (from flask==1.0.3->azureml-defaults->-r /azureml-environment-setup/condaenv._51zuk55.requirements.txt (line 4))\n",
      "  Downloading https://files.pythonhosted.org/packages/fa/37/45185cb5abbc30d7257104c434fe0b07e5a195a6847506c074527aa599ec/Click-7.0-py2.py3-none-any.whl (81kB)\n",
      "Collecting azure-mgmt-authorization>=0.40.0 (from azureml-core==1.0.62.*->azureml-defaults->-r /azureml-environment-setup/condaenv._51zuk55.requirements.txt (line 4))\n",
      "  Downloading https://files.pythonhosted.org/packages/5e/17/4724694ddb3311955ddc367eddcd0928f8ee2c7b12d5a6f0b12bca0b03db/azure_mgmt_authorization-0.60.0-py2.py3-none-any.whl (82kB)\n",
      "Collecting azure-mgmt-containerregistry>=2.0.0 (from azureml-core==1.0.62.*->azureml-defaults->-r /azureml-environment-setup/condaenv._51zuk55.requirements.txt (line 4))\n",
      "  Downloading https://files.pythonhosted.org/packages/97/70/8c2d0509db466678eba16fa2b0a539499f3b351b1f2993126ad843d5be13/azure_mgmt_containerregistry-2.8.0-py2.py3-none-any.whl (718kB)\n",
      "Collecting contextlib2 (from azureml-core==1.0.62.*->azureml-defaults->-r /azureml-environment-setup/condaenv._51zuk55.requirements.txt (line 4))\n",
      "  Downloading https://files.pythonhosted.org/packages/a2/71/8273a7eeed0aff6a854237ab5453bc9aa67deb49df4832801c21f0ff3782/contextlib2-0.5.5-py2.py3-none-any.whl\n",
      "Collecting urllib3>=1.23 (from azureml-core==1.0.62.*->azureml-defaults->-r /azureml-environment-setup/condaenv._51zuk55.requirements.txt (line 4))\n",
      "  Downloading https://files.pythonhosted.org/packages/81/b7/cef47224900ca67078ed6e2db51342796007433ad38329558f56a15255f5/urllib3-1.25.5-py2.py3-none-any.whl (125kB)\n",
      "Collecting msrest>=0.5.1 (from azureml-core==1.0.62.*->azureml-defaults->-r /azureml-environment-setup/condaenv._51zuk55.requirements.txt (line 4))\n",
      "  Downloading https://files.pythonhosted.org/packages/27/b0/c34b3ea9b2ed74b800520fbefb312cdb7f05c20b8bd42e5e7662a5614f98/msrest-0.6.10-py2.py3-none-any.whl (82kB)\n",
      "Collecting jsonpickle (from azureml-core==1.0.62.*->azureml-defaults->-r /azureml-environment-setup/condaenv._51zuk55.requirements.txt (line 4))\n",
      "  Downloading https://files.pythonhosted.org/packages/07/07/c157520a3ebd166c8c24c6ae0ecae7c3968eb4653ff0e5af369bb82f004d/jsonpickle-1.2-py2.py3-none-any.whl\n",
      "Collecting msrestazure>=0.4.33 (from azureml-core==1.0.62.*->azureml-defaults->-r /azureml-environment-setup/condaenv._51zuk55.requirements.txt (line 4))\n",
      "  Downloading https://files.pythonhosted.org/packages/68/75/5cb56ca8cbc6c5fe476e4878c73f57a331edcf55e5d3fcb4a7377d7d659d/msrestazure-0.6.2-py2.py3-none-any.whl (40kB)\n",
      "Collecting pathspec (from azureml-core==1.0.62.*->azureml-defaults->-r /azureml-environment-setup/condaenv._51zuk55.requirements.txt (line 4))\n",
      "  Downloading https://files.pythonhosted.org/packages/84/2a/bfee636b1e2f7d6e30dd74f49201ccfa5c3cf322d44929ecc6c137c486c5/pathspec-0.5.9.tar.gz\n",
      "Collecting ruamel.yaml<=0.15.89,>=0.15.35 (from azureml-core==1.0.62.*->azureml-defaults->-r /azureml-environment-setup/condaenv._51zuk55.requirements.txt (line 4))\n",
      "  Downloading https://files.pythonhosted.org/packages/36/e1/cc2fa400fa5ffde3efa834ceb15c464075586de05ca3c553753dcd6f1d3b/ruamel.yaml-0.15.89-cp36-cp36m-manylinux1_x86_64.whl (651kB)\n",
      "Collecting azure-mgmt-resource>=1.2.1 (from azureml-core==1.0.62.*->azureml-defaults->-r /azureml-environment-setup/condaenv._51zuk55.requirements.txt (line 4))\n",
      "  Downloading https://files.pythonhosted.org/packages/f9/34/e29f97d24f55d6f0a70186acf5b0b3e7f9d87a444f08ad7d758020d5777f/azure_mgmt_resource-4.0.0-py2.py3-none-any.whl (657kB)\n",
      "Collecting requests>=2.19.1 (from azureml-core==1.0.62.*->azureml-defaults->-r /azureml-environment-setup/condaenv._51zuk55.requirements.txt (line 4))\n",
      "  Downloading https://files.pythonhosted.org/packages/51/bd/23c926cd341ea6b7dd0b2a00aba99ae0f828be89d72b2190f27c11d4b7fb/requests-2.22.0-py2.py3-none-any.whl (57kB)\n",
      "Collecting azure-graphrbac>=0.40.0 (from azureml-core==1.0.62.*->azureml-defaults->-r /azureml-environment-setup/condaenv._51zuk55.requirements.txt (line 4))\n",
      "  Downloading https://files.pythonhosted.org/packages/3e/93/02056aca45162f9fc275d1eaad12a2a07ef92375afb48eabddc4134b8315/azure_graphrbac-0.61.1-py2.py3-none-any.whl (141kB)\n",
      "Collecting PyJWT (from azureml-core==1.0.62.*->azureml-defaults->-r /azureml-environment-setup/condaenv._51zuk55.requirements.txt (line 4))\n",
      "  Downloading https://files.pythonhosted.org/packages/87/8b/6a9f14b5f781697e51259d81657e6048fd31a113229cf346880bb7545565/PyJWT-1.7.1-py2.py3-none-any.whl\n",
      "Collecting cryptography!=1.9,!=2.0.*,!=2.1.*,!=2.2.* (from azureml-core==1.0.62.*->azureml-defaults->-r /azureml-environment-setup/condaenv._51zuk55.requirements.txt (line 4))\n",
      "  Downloading https://files.pythonhosted.org/packages/97/18/c6557f63a6abde34707196fb2cad1c6dc0dbff25a200d5044922496668a4/cryptography-2.7-cp34-abi3-manylinux1_x86_64.whl (2.3MB)\n",
      "Collecting adal>=1.2.0 (from azureml-core==1.0.62.*->azureml-defaults->-r /azureml-environment-setup/condaenv._51zuk55.requirements.txt (line 4))\n",
      "  Downloading https://files.pythonhosted.org/packages/4f/b5/3ea9ae3d1096b9ff31e8f1846c47d49f3129a12464ac0a73b602de458298/adal-1.2.2-py2.py3-none-any.whl (53kB)\n",
      "Collecting docker (from azureml-core==1.0.62.*->azureml-defaults->-r /azureml-environment-setup/condaenv._51zuk55.requirements.txt (line 4))\n",
      "  Downloading https://files.pythonhosted.org/packages/95/47/5560c9cf0c92b50da24216f0e7733250fbed5a497f69e3c70e1be62143fe/docker-4.0.2-py2.py3-none-any.whl (138kB)\n",
      "Collecting pyopenssl (from azureml-core==1.0.62.*->azureml-defaults->-r /azureml-environment-setup/condaenv._51zuk55.requirements.txt (line 4))\n",
      "  Downloading https://files.pythonhosted.org/packages/01/c8/ceb170d81bd3941cbeb9940fc6cc2ef2ca4288d0ca8929ea4db5905d904d/pyOpenSSL-19.0.0-py2.py3-none-any.whl (53kB)\n",
      "Collecting pytz (from azureml-core==1.0.62.*->azureml-defaults->-r /azureml-environment-setup/condaenv._51zuk55.requirements.txt (line 4))\n",
      "  Downloading https://files.pythonhosted.org/packages/87/76/46d697698a143e05f77bec5a526bf4e56a0be61d63425b68f4ba553b51f2/pytz-2019.2-py2.py3-none-any.whl (508kB)\n",
      "Collecting azure-mgmt-keyvault>=0.40.0 (from azureml-core==1.0.62.*->azureml-defaults->-r /azureml-environment-setup/condaenv._51zuk55.requirements.txt (line 4))\n",
      "  Downloading https://files.pythonhosted.org/packages/b3/d1/9fed0a3a3b43d0b1ad59599b5c836ccc4cf117e26458075385bafe79575b/azure_mgmt_keyvault-2.0.0-py2.py3-none-any.whl (80kB)\n",
      "Collecting ndg-httpsclient (from azureml-core==1.0.62.*->azureml-defaults->-r /azureml-environment-setup/condaenv._51zuk55.requirements.txt (line 4))\n",
      "  Downloading https://files.pythonhosted.org/packages/fb/67/c2f508c00ed2a6911541494504b7cac16fe0b0473912568df65fd1801132/ndg_httpsclient-0.5.1-py3-none-any.whl\n",
      "Collecting azure-mgmt-storage>=1.5.0 (from azureml-core==1.0.62.*->azureml-defaults->-r /azureml-environment-setup/condaenv._51zuk55.requirements.txt (line 4))\n",
      "  Downloading https://files.pythonhosted.org/packages/8c/03/62c3ed229b9b83fbf4dcd56ae27d5d835f3bd921004c09a478729c221fff/azure_mgmt_storage-4.0.0-py2.py3-none-any.whl (426kB)\n",
      "Collecting jmespath (from azureml-core==1.0.62.*->azureml-defaults->-r /azureml-environment-setup/condaenv._51zuk55.requirements.txt (line 4))\n",
      "  Downloading https://files.pythonhosted.org/packages/83/94/7179c3832a6d45b266ddb2aac329e101367fbdb11f425f13771d27f225bb/jmespath-0.9.4-py2.py3-none-any.whl\n",
      "Collecting SecretStorage (from azureml-core==1.0.62.*->azureml-defaults->-r /azureml-environment-setup/condaenv._51zuk55.requirements.txt (line 4))\n",
      "  Downloading https://files.pythonhosted.org/packages/82/59/cb226752e20d83598d7fdcabd7819570b0329a61db07cfbdd21b2ef546e3/SecretStorage-3.1.1-py3-none-any.whl\n",
      "Collecting backports.tempfile (from azureml-core==1.0.62.*->azureml-defaults->-r /azureml-environment-setup/condaenv._51zuk55.requirements.txt (line 4))\n",
      "  Downloading https://files.pythonhosted.org/packages/b4/5c/077f910632476281428fe254807952eb47ca78e720d059a46178c541e669/backports.tempfile-1.0-py2.py3-none-any.whl\n",
      "Collecting azure-common>=1.1.12 (from azureml-core==1.0.62.*->azureml-defaults->-r /azureml-environment-setup/condaenv._51zuk55.requirements.txt (line 4))\n",
      "  Downloading https://files.pythonhosted.org/packages/00/55/a703923c12cd3172d5c007beda0c1a34342a17a6a72779f8a7c269af0cd6/azure_common-1.1.23-py2.py3-none-any.whl\n",
      "Collecting liac-arff>=2.1.1 (from azureml-model-management-sdk==1.0.1b6.post1->azureml-defaults->-r /azureml-environment-setup/condaenv._51zuk55.requirements.txt (line 4))\n",
      "  Downloading https://files.pythonhosted.org/packages/e9/35/fbc9217cfa91d98888b43e1a19c03a50d716108c58494c558c65e308f372/liac-arff-2.4.0.tar.gz\n",
      "Collecting pandas>=0.20.2 (from azureml-model-management-sdk==1.0.1b6.post1->azureml-defaults->-r /azureml-environment-setup/condaenv._51zuk55.requirements.txt (line 4))\n",
      "  Downloading https://files.pythonhosted.org/packages/73/9b/52e228545d14f14bb2a1622e225f38463c8726645165e1cb7dde95bfe6d4/pandas-0.25.1-cp36-cp36m-manylinux1_x86_64.whl (10.5MB)\n",
      "Collecting dill>=0.2.7.1 (from azureml-model-management-sdk==1.0.1b6.post1->azureml-defaults->-r /azureml-environment-setup/condaenv._51zuk55.requirements.txt (line 4))\n",
      "  Downloading https://files.pythonhosted.org/packages/39/7a/70803635c850e351257029089d38748516a280864c97cbc73087afef6d51/dill-0.3.0.tar.gz (151kB)\n",
      "Collecting pycparser (from cffi>=1.4.0->horovod==0.16.1->-r /azureml-environment-setup/condaenv._51zuk55.requirements.txt (line 6))\n",
      "  Downloading https://files.pythonhosted.org/packages/68/9e/49196946aee219aead1290e00d1e7fdeab8567783e83e1b9ab5585e6206a/pycparser-2.19.tar.gz (158kB)\n",
      "Collecting MarkupSafe>=0.23 (from Jinja2>=2.10->flask==1.0.3->azureml-defaults->-r /azureml-environment-setup/condaenv._51zuk55.requirements.txt (line 4))\n",
      "  Downloading https://files.pythonhosted.org/packages/b2/5f/23e0023be6bb885d00ffbefad2942bc51a620328ee910f64abe5a8d18dd1/MarkupSafe-1.1.1-cp36-cp36m-manylinux1_x86_64.whl\n",
      "Requirement already satisfied: certifi>=2017.4.17 in /azureml-envs/azureml_3a2fad361c43dd9258fd40070cb241c4/lib/python3.6/site-packages (from msrest>=0.5.1->azureml-core==1.0.62.*->azureml-defaults->-r /azureml-environment-setup/condaenv._51zuk55.requirements.txt (line 4)) (2019.9.11)\n",
      "Collecting isodate>=0.6.0 (from msrest>=0.5.1->azureml-core==1.0.62.*->azureml-defaults->-r /azureml-environment-setup/condaenv._51zuk55.requirements.txt (line 4))\n",
      "  Downloading https://files.pythonhosted.org/packages/9b/9f/b36f7774ff5ea8e428fdcfc4bb332c39ee5b9362ddd3d40d9516a55221b2/isodate-0.6.0-py2.py3-none-any.whl (45kB)\n",
      "Collecting requests-oauthlib>=0.5.0 (from msrest>=0.5.1->azureml-core==1.0.62.*->azureml-defaults->-r /azureml-environment-setup/condaenv._51zuk55.requirements.txt (line 4))\n",
      "  Downloading https://files.pythonhosted.org/packages/c2/e2/9fd03d55ffb70fe51f587f20bcf407a6927eb121de86928b34d162f0b1ac/requests_oauthlib-1.2.0-py2.py3-none-any.whl\n",
      "Collecting chardet<3.1.0,>=3.0.2 (from requests>=2.19.1->azureml-core==1.0.62.*->azureml-defaults->-r /azureml-environment-setup/condaenv._51zuk55.requirements.txt (line 4))\n",
      "  Downloading https://files.pythonhosted.org/packages/bc/a9/01ffebfb562e4274b6487b4bb1ddec7ca55ec7510b22e4c51f14098443b8/chardet-3.0.4-py2.py3-none-any.whl (133kB)\n",
      "Collecting idna<2.9,>=2.5 (from requests>=2.19.1->azureml-core==1.0.62.*->azureml-defaults->-r /azureml-environment-setup/condaenv._51zuk55.requirements.txt (line 4))\n",
      "  Downloading https://files.pythonhosted.org/packages/14/2c/cd551d81dbe15200be1cf41cd03869a46fe7226e7450af7a6545bfc474c9/idna-2.8-py2.py3-none-any.whl (58kB)\n",
      "Collecting asn1crypto>=0.21.0 (from cryptography!=1.9,!=2.0.*,!=2.1.*,!=2.2.*->azureml-core==1.0.62.*->azureml-defaults->-r /azureml-environment-setup/condaenv._51zuk55.requirements.txt (line 4))\n",
      "  Downloading https://files.pythonhosted.org/packages/ea/cd/35485615f45f30a510576f1a56d1e0a7ad7bd8ab5ed7cdc600ef7cd06222/asn1crypto-0.24.0-py2.py3-none-any.whl (101kB)\n",
      "Collecting websocket-client>=0.32.0 (from docker->azureml-core==1.0.62.*->azureml-defaults->-r /azureml-environment-setup/condaenv._51zuk55.requirements.txt (line 4))\n",
      "  Downloading https://files.pythonhosted.org/packages/29/19/44753eab1fdb50770ac69605527e8859468f3c0fd7dc5a76dd9c4dbd7906/websocket_client-0.56.0-py2.py3-none-any.whl (200kB)\n",
      "Collecting pyasn1>=0.1.1 (from ndg-httpsclient->azureml-core==1.0.62.*->azureml-defaults->-r /azureml-environment-setup/condaenv._51zuk55.requirements.txt (line 4))\n",
      "  Downloading https://files.pythonhosted.org/packages/a1/71/8f0d444e3a74e5640a3d5d967c1c6b015da9c655f35b2d308a55d907a517/pyasn1-0.4.7-py2.py3-none-any.whl (76kB)\n",
      "Collecting jeepney (from SecretStorage->azureml-core==1.0.62.*->azureml-defaults->-r /azureml-environment-setup/condaenv._51zuk55.requirements.txt (line 4))\n",
      "  Downloading https://files.pythonhosted.org/packages/0a/4c/ef880713a6c6d628869596703167eab2edf8e0ec2d870d1089dcb0901b81/jeepney-0.4.1-py3-none-any.whl (60kB)\n",
      "Collecting backports.weakref (from backports.tempfile->azureml-core==1.0.62.*->azureml-defaults->-r /azureml-environment-setup/condaenv._51zuk55.requirements.txt (line 4))\n",
      "  Downloading https://files.pythonhosted.org/packages/88/ec/f598b633c3d5ffe267aaada57d961c94fdfa183c5c3ebda2b6d151943db6/backports.weakref-1.0.post1-py2.py3-none-any.whl\n",
      "Collecting oauthlib>=3.0.0 (from requests-oauthlib>=0.5.0->msrest>=0.5.1->azureml-core==1.0.62.*->azureml-defaults->-r /azureml-environment-setup/condaenv._51zuk55.requirements.txt (line 4))\n",
      "  Downloading https://files.pythonhosted.org/packages/05/57/ce2e7a8fa7c0afb54a0581b14a65b56e62b5759dbc98e80627142b8a3704/oauthlib-3.1.0-py2.py3-none-any.whl (147kB)\n",
      "Building wheels for collected packages: horovod, pyyaml, absl-py, wrapt, termcolor, gast, json-logging-py, psutil, pathspec, liac-arff, dill, pycparser\n",
      "  Building wheel for horovod (setup.py): started\n",
      "  Building wheel for horovod (setup.py): finished with status 'error'\n",
      "\u001b[91m  ERROR: Command errored out with exit status 1:\n",
      "   command: /azureml-envs/azureml_3a2fad361c43dd9258fd40070cb241c4/bin/python -u -c 'import sys, setuptools, tokenize; sys.argv[0] = '\"'\"'/tmp/pip-install-qv3gi7l_/horovod/setup.py'\"'\"'; __file__='\"'\"'/tmp/pip-install-qv3gi7l_/horovod/setup.py'\"'\"';f=getattr(tokenize, '\"'\"'open'\"'\"', open)(__file__);code=f.read().replace('\"'\"'\\r\\n'\"'\"', '\"'\"'\\n'\"'\"');f.close();exec(compile(code, __file__, '\"'\"'exec'\"'\"'))' bdist_wheel -d /tmp/pip-wheel-rgix_dp3 --python-tag cp36\n",
      "       cwd: /tmp/pip-install-qv3gi7l_/horovod/\n",
      "  Complete output (194 lines):\n",
      "  \n",
      "  Installed /tmp/pip-install-qv3gi7l_/horovod/.eggs/psutil-5.6.3-py3.6-linux-x86_64.egg\n",
      "  Searching for cloudpickle\n",
      "  Reading https://pypi.org/simple/cloudpickle/\n",
      "  Downloading https://files.pythonhosted.org/packages/c1/49/334e279caa3231255725c8e860fa93e72083567625573421db8875846c14/cloudpickle-1.2.2-py2.py3-none-any.whl#sha256=f3ef2c9d438f1553ce7795afb18c1f190d8146132496169ef6aa9b7b65caa4c3\n",
      "  Best match: cloudpickle 1.2.2\n",
      "  Processing cloudpickle-1.2.2-py2.py3-none-any.whl\n",
      "  Installing cloudpickle-1.2.2-py2.py3-none-any.whl to /tmp/pip-install-qv3gi7l_/horovod/.eggs\n",
      "  \n",
      "  Installed /tmp/pip-install-qv3gi7l_/horovod/.eggs/cloudpickle-1.2.2-py3.6.egg\n",
      "  Searching for cffi>=1.4.0\n",
      "  Reading https://pypi.org/simple/cffi/\n",
      "  Downloading https://files.pythonhosted.org/packages/5f/bf/6aa1925384c23ffeb579e97a5569eb9abce41b6310b329352b8252cee1c3/cffi-1.12.3-cp36-cp36m-manylinux1_x86_64.whl#sha256=59b4dc008f98fc6ee2bb4fd7fc786a8d70000d058c2bbe2698275bc53a8d3fa7\n",
      "  Best match: cffi 1.12.3\n",
      "  Processing cffi-1.12.3-cp36-cp36m-manylinux1_x86_64.whl\n",
      "  Installing cffi-1.12.3-cp36-cp36m-manylinux1_x86_64.whl to /tmp/pip-install-qv3gi7l_/horovod/.eggs\n",
      "  writing requirements to /tmp/pip-install-qv3gi7l_/horovod/.eggs/cffi-1.12.3-py3.6-linux-x86_64.egg/EGG-INFO/requires.txt\n",
      "  \n",
      "  Installed /tmp/pip-install-qv3gi7l_/horovod/.eggs/cffi-1.12.3-py3.6-linux-x86_64.egg\n",
      "  Searching for pycparser\n",
      "  Reading https://pypi.org/simple/pycparser/\n",
      "  Downloading https://files.pythonhosted.org/packages/68/9e/49196946aee219aead1290e00d1e7fdeab8567783e83e1b9ab5585e6206a/pycparser-2.19.tar.gz#sha256=a988718abfad80b6b157acce7bf130a30876d27603738ac39f140993246b25b3\n",
      "  Best match: pycparser 2.19\n",
      "  Processing pycparser-2.19.tar.gz\n",
      "  Writing /tmp/easy_install-5us2buhf/pycparser-2.19/setup.cfg\n",
      "  Running pycparser-2.19/setup.py -q bdist_egg --dist-dir /tmp/easy_install-5us2buhf/pycparser-2.19/egg-dist-tmp-2bo1oiky\n",
      "  warning: no previously-included files found matching 'setup.pyc'\n",
      "  warning: no previously-included files matching 'yacctab.*' found under directory 'tests'\n",
      "  warning: no previously-included files matching 'lextab.*' found under directory 'tests'\n",
      "  warning: no previously-included files matching 'yacctab.*' found under directory 'examples'\n",
      "  warning: no previously-included files matching 'lextab.*' found under directory 'examples'\n",
      "  zip_safe flag not set; analyzing archive contents...\n",
      "  pycparser.ply.__pycache__.lex.cpython-36: module references __file__\n",
      "  pycparser.ply.__pycache__.lex.cpython-36: module MAY be using inspect.getsourcefile\n",
      "  pycparser.ply.__pycache__.yacc.cpython-36: module references __file__\n",
      "  pycparser.ply.__pycache__.yacc.cpython-36: module MAY be using inspect.getsourcefile\n",
      "  pycparser.ply.__pycache__.yacc.cpython-36: module MAY be using inspect.stack\n",
      "  pycparser.ply.__pycache__.ygen.cpython-36: module references __file__\n",
      "  creating /tmp/pip-install-qv3gi7l_/horovod/.eggs/pycparser-2.19-py3.6.egg\n",
      "  Extracting pycparser-2.19-py3.6.egg to /tmp/pip-install-qv3gi7l_/horovod/.eggs\n",
      "  \n",
      "  Installed /tmp/pip-install-qv3gi7l_/horovod/.eggs/pycparser-2.19-py3.6.egg\n",
      "  running bdist_wheel\n",
      "  running build\n",
      "  running build_py\n",
      "  creating build\n",
      "  creating build/lib.linux-x86_64-3.6\n",
      "  creating build/lib.linux-x86_64-3.6/horovod\n",
      "  copying horovod/__init__.py -> build/lib.linux-x86_64-3.6/horovod\n",
      "  creating build/lib.linux-x86_64-3.6/horovod/_keras\n",
      "  copying horovod/_keras/callbacks.py -> build/lib.linux-x86_64-3.6/horovod/_keras\n",
      "  copying horovod/_keras/__init__.py -> build/lib.linux-x86_64-3.6/horovod/_keras\n",
      "  creating build/lib.linux-x86_64-3.6/horovod/run\n",
      "  copying horovod/run/run.py -> build/lib.linux-x86_64-3.6/horovod/run\n",
      "  copying horovod/run/task_fn.py -> build/lib.linux-x86_64-3.6/horovod/run\n",
      "  copying horovod/run/__init__.py -> build/lib.linux-x86_64-3.6/horovod/run\n",
      "  creating build/lib.linux-x86_64-3.6/horovod/keras\n",
      "  copying horovod/keras/callbacks.py -> build/lib.linux-x86_64-3.6/horovod/keras\n",
      "  copying horovod/keras/__init__.py -> build/lib.linux-x86_64-3.6/horovod/keras\n",
      "  creating build/lib.linux-x86_64-3.6/horovod/mxnet\n",
      "  copying horovod/mxnet/mpi_ops.py -> build/lib.linux-x86_64-3.6/horovod/mxnet\n",
      "  copying horovod/mxnet/__init__.py -> build/lib.linux-x86_64-3.6/horovod/mxnet\n",
      "  creating build/lib.linux-x86_64-3.6/horovod/common\n",
      "  copying horovod/common/__init__.py -> build/lib.linux-x86_64-3.6/horovod/common\n",
      "  creating build/lib.linux-x86_64-3.6/horovod/tensorflow\n",
      "  copying horovod/tensorflow/compression.py -> build/lib.linux-x86_64-3.6/horovod/tensorflow\n",
      "  copying horovod/tensorflow/util.py -> build/lib.linux-x86_64-3.6/horovod/tensorflow\n",
      "  copying horovod/tensorflow/mpi_ops.py -> build/lib.linux-x86_64-3.6/horovod/tensorflow\n",
      "  copying horovod/tensorflow/__init__.py -> build/lib.linux-x86_64-3.6/horovod/tensorflow\n",
      "  creating build/lib.linux-x86_64-3.6/horovod/torch\n",
      "  copying horovod/torch/compression.py -> build/lib.linux-x86_64-3.6/horovod/torch\n",
      "  copying horovod/torch/mpi_ops.py -> build/lib.linux-x86_64-3.6/horovod/torch\n",
      "  copying horovod/torch/__init__.py -> build/lib.linux-x86_64-3.6/horovod/torch\n",
      "  creating build/lib.linux-x86_64-3.6/horovod/spark\n",
      "  copying horovod/spark/__init__.py -> build/lib.linux-x86_64-3.6/horovod/spark\n",
      "  creating build/lib.linux-x86_64-3.6/horovod/run/util\n",
      "  copying horovod/run/util/network.py -> build/lib.linux-x86_64-3.6/horovod/run/util\n",
      "  copying horovod/run/util/cache.py -> build/lib.linux-x86_64-3.6/horovod/run/util\n",
      "  copying horovod/run/util/threads.py -> build/lib.linux-x86_64-3.6/horovod/run/util\n",
      "  copying horovod/run/util/__init__.py -> build/lib.linux-x86_64-3.6/horovod/run/util\n",
      "  creating build/lib.linux-x86_64-3.6/horovod/run/driver\n",
      "  copying horovod/run/driver/driver_service.py -> build/lib.linux-x86_64-3.6/horovod/run/driver\n",
      "  copying horovod/run/driver/__init__.py -> build/lib.linux-x86_64-3.6/horovod/run/driver\n",
      "  creating build/lib.linux-x86_64-3.6/horovod/run/common\n",
      "  copying horovod/run/common/__init__.py -> build/lib.linux-x86_64-3.6/horovod/run/common\n",
      "  creating build/lib.linux-x86_64-3.6/horovod/run/task\n",
      "  copying horovod/run/task/task_service.py -> build/lib.linux-x86_64-3.6/horovod/run/task\n",
      "  copying horovod/run/task/__init__.py -> build/lib.linux-x86_64-3.6/horovod/run/task\n",
      "  creating build/lib.linux-x86_64-3.6/horovod/run/common/util\n",
      "  copying horovod/run/common/util/secret.py -> build/lib.linux-x86_64-3.6/horovod/run/common/util\n",
      "  copying horovod/run/common/util/host_hash.py -> build/lib.linux-x86_64-3.6/horovod/run/common/util\n",
      "  copying horovod/run/common/util/network.py -> build/lib.linux-x86_64-3.6/horovod/run/common/util\n",
      "  copying horovod/run/common/util/safe_shell_exec.py -> build/lib.linux-x86_64-3.6/horovod/run/common/util\n",
      "  copying horovod/run/common/util/timeout.py -> build/lib.linux-x86_64-3.6/horovod/run/common/util\n",
      "  copying horovod/run/common/util/codec.py -> build/lib.linux-x86_64-3.6/horovod/run/common/util\n",
      "  copying horovod/run/common/util/__init__.py -> build/lib.linux-x86_64-3.6/horovod/run/common/util\n",
      "  creating build/lib.linux-x86_64-3.6/horovod/run/common/service\n",
      "  copying horovod/run/common/service/task_service.py -> build/lib.linux-x86_64-3.6/horovod/run/common/service\n",
      "  copying horovod/run/common/service/driver_service.py -> build/lib.linux-x86_64-3.6/horovod/run/common/service\n",
      "  copying horovod/run/common/service/__init__.py -> build/lib.linux-x86_64-3.6/horovod/run/common/service\n",
      "  creating build/lib.linux-x86_64-3.6/horovod/tensorflow/keras\n",
      "  copying horovod/tensorflow/keras/callbacks.py -> build/lib.linux-x86_64-3.6/horovod/tensorflow/keras\n",
      "  copying horovod/tensorflow/keras/__init__.py -> build/lib.linux-x86_64-3.6/horovod/tensorflow/keras\n",
      "  creating build/lib.linux-x86_64-3.6/horovod/torch/mpi_lib\n",
      "  copying horovod/torch/mpi_lib/__init__.py -> build/lib.linux-x86_64-3.6/horovod/torch/mpi_lib\n",
      "  creating build/lib.linux-x86_64-3.6/horovod/torch/mpi_lib_impl\n",
      "  copying horovod/torch/mpi_lib_impl/__init__.py -> build/lib.linux-x86_64-3.6/horovod/torch/mpi_lib_impl\n",
      "  creating build/lib.linux-x86_64-3.6/horovod/spark/driver\n",
      "  copying horovod/spark/driver/mpirun_rsh.py -> build/lib.linux-x86_64-3.6/horovod/spark/driver\n",
      "  copying horovod/spark/driver/job_id.py -> build/lib.linux-x86_64-3.6/horovod/spark/driver\n",
      "  copying horovod/spark/driver/driver_service.py -> build/lib.linux-x86_64-3.6/horovod/spark/driver\n",
      "  copying horovod/spark/driver/__init__.py -> build/lib.linux-x86_64-3.6/horovod/spark/driver\n",
      "  creating build/lib.linux-x86_64-3.6/horovod/spark/task\n",
      "  copying horovod/spark/task/task_service.py -> build/lib.linux-x86_64-3.6/horovod/spark/task\n",
      "  copying horovod/spark/task/mpirun_exec_fn.py -> build/lib.linux-x86_64-3.6/horovod/spark/task\n",
      "  copying horovod/spark/task/__init__.py -> build/lib.linux-x86_64-3.6/horovod/spark/task\n",
      "  running build_ext\n",
      "  gcc -pthread -Wno-unused-result -Wsign-compare -DNDEBUG -g -fwrapv -O3 -Wall -Wstrict-prototypes -fPIC -std=c++11 -fPIC -O2 -Wall -mf16c -mavx -I/azureml-envs/azureml_3a2fad361c43dd9258fd40070cb241c4/include/python3.6m -c build/temp.linux-x86_64-3.6/test_compile/test_cpp_flags.cc -o build/temp.linux-x86_64-3.6/test_compile/test_cpp_flags.o\n",
      "  cc1plus: warning: command line option â€˜-Wstrict-prototypesâ€™ is valid for C/ObjC but not for C++\n",
      "  gcc -pthread -shared -L/azureml-envs/azureml_3a2fad361c43dd9258fd40070cb241c4/lib -Wl,-rpath=/azureml-envs/azureml_3a2fad361c43dd9258fd40070cb241c4/lib,--no-as-needed -L/azureml-envs/azureml_3a2fad361c43dd9258fd40070cb241c4/lib -Wl,-rpath=/azureml-envs/azureml_3a2fad361c43dd9258fd40070cb241c4/lib,--no-as-needed build/temp.linux-x86_64-3.6/test_compile/test_cpp_flags.o -L/azureml-envs/azureml_3a2fad361c43dd9258fd40070cb241c4/lib -o build/temp.linux-x86_64-3.6/test_compile/test_cpp_flags.so\n",
      "  gcc -pthread -Wno-unused-result -Wsign-compare -DNDEBUG -g -fwrapv -O3 -Wall -Wstrict-prototypes -fPIC -I/azureml-envs/azureml_3a2fad361c43dd9258fd40070cb241c4/include/python3.6m -c build/temp.linux-x86_64-3.6/test_compile/test_link_flags.cc -o build/temp.linux-x86_64-3.6/test_compile/test_link_flags.o\n",
      "  cc1plus: warning: command line option â€˜-Wstrict-prototypesâ€™ is valid for C/ObjC but not for C++\n",
      "  gcc -pthread -shared -L/azureml-envs/azureml_3a2fad361c43dd9258fd40070cb241c4/lib -Wl,-rpath=/azureml-envs/azureml_3a2fad361c43dd9258fd40070cb241c4/lib,--no-as-needed -L/azureml-envs/azureml_3a2fad361c43dd9258fd40070cb241c4/lib -Wl,-rpath=/azureml-envs/azureml_3a2fad361c43dd9258fd40070cb241c4/lib,--no-as-needed -Wl,--version-script=horovod.lds build/temp.linux-x86_64-3.6/test_compile/test_link_flags.o -L/azureml-envs/azureml_3a2fad361c43dd9258fd40070cb241c4/lib -o build/temp.linux-x86_64-3.6/test_compile/test_link_flags.so\n",
      "  INFO: Unable to build TensorFlow plugin, will skip it.\n",
      "  \n",
      "  Traceback (most recent call last):\n",
      "    File \"/tmp/pip-install-qv3gi7l_/horovod/setup.py\", line 55, in check_tf_version\n",
      "      import tensorflow as tf\n",
      "  ModuleNotFoundError: No module named 'tensorflow'\n",
      "  \n",
      "  During handling of the above exception, another exception occurred:\n",
      "  \n",
      "  Traceback (most recent call last):\n",
      "    File \"/tmp/pip-install-qv3gi7l_/horovod/setup.py\", line 909, in build_extensions\n",
      "      build_tf_extension(self, options)\n",
      "    File \"/tmp/pip-install-qv3gi7l_/horovod/setup.py\", line 608, in build_tf_extension\n",
      "      check_tf_version()\n",
      "    File \"/tmp/pip-install-qv3gi7l_/horovod/setup.py\", line 62, in check_tf_version\n",
      "      'import tensorflow failed, is it installed?\\n\\n%s' % traceback.format_exc())\n",
      "  distutils.errors.DistutilsPlatformError: import tensorflow failed, is it installed?\n",
      "  \n",
      "  Traceback (most recent call last):\n",
      "    File \"/tmp/pip-install-qv3gi7l_/horovod/setup.py\", line 55, in check_tf_version\n",
      "      import tensorflow as tf\n",
      "  ModuleNotFoundError: No module named 'tensorflow'\n",
      "  \n",
      "  \n",
      "  INFO: Unable to build PyTorch plugin, will skip it.\n",
      "  \n",
      "  Traceback (most recent call last):\n",
      "    File \"/tmp/pip-install-qv3gi7l_/horovod/setup.py\", line 711, in check_torch_version\n",
      "      import torch\n",
      "  ModuleNotFoundError: No module named 'torch'\n",
      "  \n",
      "  During handling of the above exception, another exception occurred:\n",
      "  \n",
      "  Traceback (most recent call last):\n",
      "    File \"/tmp/pip-install-qv3gi7l_/horovod/setup.py\", line 920, in build_extensions\n",
      "      torch_version = check_torch_version()\n",
      "    File \"/tmp/pip-install-qv3gi7l_/horovod/setup.py\", line 718, in check_torch_version\n",
      "      'import torch failed, is it installed?\\n\\n%s' % traceback.format_exc())\n",
      "  distutils.errors.DistutilsPlatformError: import torch failed, is it installed?\n",
      "  \n",
      "  Traceback (most recent call last):\n",
      "    File \"/tmp/pip-install-qv3gi7l_/horovod/setup.py\", line 711, in check_torch_version\n",
      "      import torch\n",
      "  ModuleNotFoundError: No module named 'torch'\n",
      "  \n",
      "  \n",
      "  INFO: Unable to build MXNet plugin, will skip it.\n",
      "  \n",
      "  Traceback (most recent call last):\n",
      "    File \"/tmp/pip-install-qv3gi7l_/horovod/setup.py\", line 71, in check_mx_version\n",
      "      import mxnet as mx\n",
      "  ModuleNotFoundError: No module named 'mxnet'\n",
      "  \n",
      "  During handling of the above exception, another exception occurred:\n",
      "  \n",
      "  Traceback (most recent call last):\n",
      "    File \"/tmp/pip-install-qv3gi7l_/horovod/setup.py\", line 935, in build_extensions\n",
      "      build_mx_extension(self, options)\n",
      "    File \"/tmp/pip-install-qv3gi7l_/horovod/setup.py\", line 672, in build_mx_extension\n",
      "      check_mx_version()\n",
      "    File \"/tmp/pip-install-qv3gi7l_/horovod/setup.py\", line 78, in check_mx_version\n",
      "      'import mxnet failed, is it installed?\\n\\n%s' % traceback.format_exc())\n",
      "  distutils.errors.DistutilsPlatformError: import mxnet failed, is it installed?\n",
      "  \n",
      "  Traceback (most recent call last):\n",
      "    File \"/tmp/pip-install-qv3gi7l_/horovod/setup.py\", line 71, in check_mx_version\n",
      "      import mxnet as mx\n",
      "  ModuleNotFoundError: No module named 'mxnet'\n",
      "  \n",
      "  \n",
      "  error: None of TensorFlow, PyTorch, or MXNet plugins were built. See errors above.\n",
      "  ----------------------------------------\n",
      "\u001b[0m\u001b[91m  ERROR: Failed building wheel for horovod\n",
      "\u001b[0m  Running setup.py clean for horovod\n",
      "  Building wheel for pyyaml (setup.py): started\n",
      "  Building wheel for pyyaml (setup.py): finished with status 'done'\n",
      "  Created wheel for pyyaml: filename=PyYAML-5.1.2-cp36-cp36m-linux_x86_64.whl size=44104 sha256=7a42276378b86077177d3fe6dcc040c6f56ed7c2d4c1c7f935caa2559757c327\n",
      "  Stored in directory: /root/.cache/pip/wheels/d9/45/dd/65f0b38450c47cf7e5312883deb97d065e030c5cca0a365030\n",
      "  Building wheel for absl-py (setup.py): started\n",
      "  Building wheel for absl-py (setup.py): finished with status 'done'\n",
      "  Created wheel for absl-py: filename=absl_py-0.8.0-cp36-none-any.whl size=120987 sha256=ea73fdb86ee6bfeaa1c21a6b728248384dc1d109c1a817bcb56a4d26420957f6\n",
      "  Stored in directory: /root/.cache/pip/wheels/9a/1e/7a/456008eb5e47fd5de792c6139df6d5b3d5f71d51c6a0b94799\n",
      "  Building wheel for wrapt (setup.py): started\n",
      "  Building wheel for wrapt (setup.py): finished with status 'done'\n",
      "  Created wheel for wrapt: filename=wrapt-1.11.2-cp36-cp36m-linux_x86_64.whl size=66319 sha256=3ea702de12062f8d595f7320d7fb12dd407911c5190a2ea7a44df70920b7cfc5\n",
      "  Stored in directory: /root/.cache/pip/wheels/d7/de/2e/efa132238792efb6459a96e85916ef8597fcb3d2ae51590dfd\n",
      "  Building wheel for termcolor (setup.py): started\n",
      "  Building wheel for termcolor (setup.py): finished with status 'done'\n",
      "  Created wheel for termcolor: filename=termcolor-1.1.0-cp36-none-any.whl size=4832 sha256=bb78c27706b00703e7db72e341a99ce64f4bd47e91357b8a6e6592738668c56a\n",
      "  Stored in directory: /root/.cache/pip/wheels/7c/06/54/bc84598ba1daf8f970247f550b175aaaee85f68b4b0c5ab2c6\n",
      "  Building wheel for gast (setup.py): started\n",
      "  Building wheel for gast (setup.py): finished with status 'done'\n",
      "  Created wheel for gast: filename=gast-0.3.2-cp36-none-any.whl size=9679 sha256=dc9b444bbf6fff5c9f3426d925f1eae064026bc7988fb57714038729846f40c9\n",
      "  Stored in directory: /root/.cache/pip/wheels/59/38/c6/234dc39b4f6951a0768fbc02d5b7207137a5b1d9094f0d54bf\n",
      "  Building wheel for json-logging-py (setup.py): started\n",
      "  Building wheel for json-logging-py (setup.py): finished with status 'done'\n",
      "  Created wheel for json-logging-py: filename=json_logging_py-0.2-cp36-none-any.whl size=3924 sha256=f85c9a4081f7c5e72ca33ac8c8bd9ea7e8e329cbb60c96d587623837e7fea74b\n",
      "  Stored in directory: /root/.cache/pip/wheels/0d/2e/1c/c638b7589610d8b9358a6e5eb008edacb8b3e9b6d1edc9479f\n",
      "  Building wheel for psutil (setup.py): started\n",
      "  Building wheel for psutil (setup.py): finished with status 'done'\n",
      "  Created wheel for psutil: filename=psutil-5.6.3-cp36-cp36m-linux_x86_64.whl size=258900 sha256=597cbe56b07300c3a999ea93b833e481078b4061b21f90e9e06e3e5f9a6d0de9\n",
      "  Stored in directory: /root/.cache/pip/wheels/90/7e/74/bb640d77775e6b6a78bcc3120f9fea4d2a28b2706de1cff37d\n",
      "  Building wheel for pathspec (setup.py): started\n",
      "  Building wheel for pathspec (setup.py): finished with status 'done'\n",
      "  Created wheel for pathspec: filename=pathspec-0.5.9-cp36-none-any.whl size=26357 sha256=160d04e7eb740b2d4412a46116bea89078c8256db670f5140fc8d093764da893\n",
      "  Stored in directory: /root/.cache/pip/wheels/45/cb/7e/ce6e6062c69446e39e328170524ca8213498bc66a74c6a210b\n",
      "  Building wheel for liac-arff (setup.py): started\n",
      "  Building wheel for liac-arff (setup.py): finished with status 'done'\n",
      "  Created wheel for liac-arff: filename=liac_arff-2.4.0-cp36-none-any.whl size=13333 sha256=ca1401c3650058817574be563b92049658be79f2efdac6b68dd078ea61b5403c\n",
      "  Stored in directory: /root/.cache/pip/wheels/d1/6a/e7/529dc54d76ecede4346164a09ae3168df358945612710f5203\n",
      "  Building wheel for dill (setup.py): started\n",
      "  Building wheel for dill (setup.py): finished with status 'done'\n",
      "  Created wheel for dill: filename=dill-0.3.0-cp36-none-any.whl size=77513 sha256=7bb30ed4e1abca9517498b35c8e69bfc3fcf02d5a24fc3838367d6944c3b41e4\n",
      "  Stored in directory: /root/.cache/pip/wheels/c9/de/a4/a91eec4eea652104d8c81b633f32ead5eb57d1b294eab24167\n",
      "  Building wheel for pycparser (setup.py): started\n",
      "  Building wheel for pycparser (setup.py): finished with status 'done'\n",
      "  Created wheel for pycparser: filename=pycparser-2.19-py2.py3-none-any.whl size=111029 sha256=d1447cea8a6398c6d14e7ff78ad799df3c7f13cccd3f0e2adda93e49fb37ffd7\n",
      "  Stored in directory: /root/.cache/pip/wheels/f2/9a/90/de94f8556265ddc9d9c8b271b0f63e57b26fb1d67a45564511\n",
      "Successfully built pyyaml absl-py wrapt termcolor gast json-logging-py psutil pathspec liac-arff dill pycparser\n",
      "Failed to build horovod\n",
      "\u001b[91mERROR: tensorflow-gpu 1.13.1 has requirement tensorboard<1.14.0,>=1.13.0, but you'll have tensorboard 1.14.0 which is incompatible.\n",
      "\u001b[0m\u001b[91mERROR: tensorflow-gpu 1.13.1 has requirement tensorflow-estimator<1.14.0rc0,>=1.13.0, but you'll have tensorflow-estimator 1.14.0 which is incompatible.\n",
      "\u001b[0mInstalling collected packages: numpy, scipy, six, h5py, keras-applications, pyyaml, keras-preprocessing, keras, python-dateutil, pyparsing, kiwisolver, cycler, matplotlib, grpcio, absl-py, tensorflow-estimator, google-pasta, protobuf, markdown, werkzeug, tensorboard, wrapt, termcolor, gast, astor, tensorflow, itsdangerous, MarkupSafe, Jinja2, click, flask, chardet, urllib3, idna, requests, isodate, oauthlib, requests-oauthlib, msrest, azure-common, PyJWT, pycparser, cffi, asn1crypto, cryptography, adal, msrestazure, azure-mgmt-authorization, azure-mgmt-containerregistry, contextlib2, jsonpickle, pathspec, ruamel.yaml, azure-mgmt-resource, azure-graphrbac, websocket-client, docker, pyopenssl, pytz, azure-mgmt-keyvault, pyasn1, ndg-httpsclient, azure-mgmt-storage, jmespath, jeepney, SecretStorage, backports.weakref, backports.tempfile, azureml-core, gunicorn, configparser, applicationinsights, json-logging-py, liac-arff, pandas, dill, azureml-model-management-sdk, azureml-defaults, tensorflow-gpu, cloudpickle, psutil, horovod\n",
      "  Running setup.py install for horovod: started\n",
      "    Running setup.py install for horovod: finished with status 'error'\n",
      "\u001b[91m    ERROR: Command errored out with exit status 1:\n",
      "     command: /azureml-envs/azureml_3a2fad361c43dd9258fd40070cb241c4/bin/python -u -c 'import sys, setuptools, tokenize; sys.argv[0] = '\"'\"'/tmp/pip-install-qv3gi7l_/horovod/setup.py'\"'\"'; __file__='\"'\"'/tmp/pip-install-qv3gi7l_/horovod/setup.py'\"'\"';f=getattr(tokenize, '\"'\"'open'\"'\"', open)(__file__);code=f.read().replace('\"'\"'\\r\\n'\"'\"', '\"'\"'\\n'\"'\"');f.close();exec(compile(code, __file__, '\"'\"'exec'\"'\"'))' install --record /tmp/pip-record-b_7lj4c_/install-record.txt --single-version-externally-managed --compile\n",
      "         cwd: /tmp/pip-install-qv3gi7l_/horovod/\n",
      "    Complete output (184 lines):\n",
      "    running install\n",
      "    running build\n",
      "    running build_py\n",
      "    creating build\n",
      "    creating build/lib.linux-x86_64-3.6\n",
      "    creating build/lib.linux-x86_64-3.6/horovod\n",
      "    copying horovod/__init__.py -> build/lib.linux-x86_64-3.6/horovod\n",
      "    creating build/lib.linux-x86_64-3.6/horovod/_keras\n",
      "    copying horovod/_keras/callbacks.py -> build/lib.linux-x86_64-3.6/horovod/_keras\n",
      "    copying horovod/_keras/__init__.py -> build/lib.linux-x86_64-3.6/horovod/_keras\n",
      "    creating build/lib.linux-x86_64-3.6/horovod/run\n",
      "    copying horovod/run/run.py -> build/lib.linux-x86_64-3.6/horovod/run\n",
      "    copying horovod/run/task_fn.py -> build/lib.linux-x86_64-3.6/horovod/run\n",
      "    copying horovod/run/__init__.py -> build/lib.linux-x86_64-3.6/horovod/run\n",
      "    creating build/lib.linux-x86_64-3.6/horovod/keras\n",
      "    copying horovod/keras/callbacks.py -> build/lib.linux-x86_64-3.6/horovod/keras\n",
      "    copying horovod/keras/__init__.py -> build/lib.linux-x86_64-3.6/horovod/keras\n",
      "    creating build/lib.linux-x86_64-3.6/horovod/mxnet\n",
      "    copying horovod/mxnet/mpi_ops.py -> build/lib.linux-x86_64-3.6/horovod/mxnet\n",
      "    copying horovod/mxnet/__init__.py -> build/lib.linux-x86_64-3.6/horovod/mxnet\n",
      "    creating build/lib.linux-x86_64-3.6/horovod/common\n",
      "    copying horovod/common/__init__.py -> build/lib.linux-x86_64-3.6/horovod/common\n",
      "    creating build/lib.linux-x86_64-3.6/horovod/tensorflow\n",
      "    copying horovod/tensorflow/compression.py -> build/lib.linux-x86_64-3.6/horovod/tensorflow\n",
      "    copying horovod/tensorflow/util.py -> build/lib.linux-x86_64-3.6/horovod/tensorflow\n",
      "    copying horovod/tensorflow/mpi_ops.py -> build/lib.linux-x86_64-3.6/horovod/tensorflow\n",
      "    copying horovod/tensorflow/__init__.py -> build/lib.linux-x86_64-3.6/horovod/tensorflow\n",
      "    creating build/lib.linux-x86_64-3.6/horovod/torch\n",
      "    copying horovod/torch/compression.py -> build/lib.linux-x86_64-3.6/horovod/torch\n",
      "    copying horovod/torch/mpi_ops.py -> build/lib.linux-x86_64-3.6/horovod/torch\n",
      "    copying horovod/torch/__init__.py -> build/lib.linux-x86_64-3.6/horovod/torch\n",
      "    creating build/lib.linux-x86_64-3.6/horovod/spark\n",
      "    copying horovod/spark/__init__.py -> build/lib.linux-x86_64-3.6/horovod/spark\n",
      "    creating build/lib.linux-x86_64-3.6/horovod/run/util\n",
      "    copying horovod/run/util/network.py -> build/lib.linux-x86_64-3.6/horovod/run/util\n",
      "    copying horovod/run/util/cache.py -> build/lib.linux-x86_64-3.6/horovod/run/util\n",
      "    copying horovod/run/util/threads.py -> build/lib.linux-x86_64-3.6/horovod/run/util\n",
      "    copying horovod/run/util/__init__.py -> build/lib.linux-x86_64-3.6/horovod/run/util\n",
      "    creating build/lib.linux-x86_64-3.6/horovod/run/driver\n",
      "    copying horovod/run/driver/driver_service.py -> build/lib.linux-x86_64-3.6/horovod/run/driver\n",
      "    copying horovod/run/driver/__init__.py -> build/lib.linux-x86_64-3.6/horovod/run/driver\n",
      "    creating build/lib.linux-x86_64-3.6/horovod/run/common\n",
      "    copying horovod/run/common/__init__.py -> build/lib.linux-x86_64-3.6/horovod/run/common\n",
      "    creating build/lib.linux-x86_64-3.6/horovod/run/task\n",
      "    copying horovod/run/task/task_service.py -> build/lib.linux-x86_64-3.6/horovod/run/task\n",
      "    copying horovod/run/task/__init__.py -> build/lib.linux-x86_64-3.6/horovod/run/task\n",
      "    creating build/lib.linux-x86_64-3.6/horovod/run/common/util\n",
      "    copying horovod/run/common/util/secret.py -> build/lib.linux-x86_64-3.6/horovod/run/common/util\n",
      "    copying horovod/run/common/util/host_hash.py -> build/lib.linux-x86_64-3.6/horovod/run/common/util\n",
      "    copying horovod/run/common/util/network.py -> build/lib.linux-x86_64-3.6/horovod/run/common/util\n",
      "    copying horovod/run/common/util/safe_shell_exec.py -> build/lib.linux-x86_64-3.6/horovod/run/common/util\n",
      "    copying horovod/run/common/util/timeout.py -> build/lib.linux-x86_64-3.6/horovod/run/common/util\n",
      "    copying horovod/run/common/util/codec.py -> build/lib.linux-x86_64-3.6/horovod/run/common/util\n",
      "    copying horovod/run/common/util/__init__.py -> build/lib.linux-x86_64-3.6/horovod/run/common/util\n",
      "    creating build/lib.linux-x86_64-3.6/horovod/run/common/service\n",
      "    copying horovod/run/common/service/task_service.py -> build/lib.linux-x86_64-3.6/horovod/run/common/service\n",
      "    copying horovod/run/common/service/driver_service.py -> build/lib.linux-x86_64-3.6/horovod/run/common/service\n",
      "    copying horovod/run/common/service/__init__.py -> build/lib.linux-x86_64-3.6/horovod/run/common/service\n",
      "    creating build/lib.linux-x86_64-3.6/horovod/tensorflow/keras\n",
      "    copying horovod/tensorflow/keras/callbacks.py -> build/lib.linux-x86_64-3.6/horovod/tensorflow/keras\n",
      "    copying horovod/tensorflow/keras/__init__.py -> build/lib.linux-x86_64-3.6/horovod/tensorflow/keras\n",
      "    creating build/lib.linux-x86_64-3.6/horovod/torch/mpi_lib\n",
      "    copying horovod/torch/mpi_lib/__init__.py -> build/lib.linux-x86_64-3.6/horovod/torch/mpi_lib\n",
      "    creating build/lib.linux-x86_64-3.6/horovod/torch/mpi_lib_impl\n",
      "    copying horovod/torch/mpi_lib_impl/__init__.py -> build/lib.linux-x86_64-3.6/horovod/torch/mpi_lib_impl\n",
      "    creating build/lib.linux-x86_64-3.6/horovod/spark/driver\n",
      "    copying horovod/spark/driver/mpirun_rsh.py -> build/lib.linux-x86_64-3.6/horovod/spark/driver\n",
      "    copying horovod/spark/driver/job_id.py -> build/lib.linux-x86_64-3.6/horovod/spark/driver\n",
      "    copying horovod/spark/driver/driver_service.py -> build/lib.linux-x86_64-3.6/horovod/spark/driver\n",
      "    copying horovod/spark/driver/__init__.py -> build/lib.linux-x86_64-3.6/horovod/spark/driver\n",
      "    creating build/lib.linux-x86_64-3.6/horovod/spark/task\n",
      "    copying horovod/spark/task/task_service.py -> build/lib.linux-x86_64-3.6/horovod/spark/task\n",
      "    copying horovod/spark/task/mpirun_exec_fn.py -> build/lib.linux-x86_64-3.6/horovod/spark/task\n",
      "    copying horovod/spark/task/__init__.py -> build/lib.linux-x86_64-3.6/horovod/spark/task\n",
      "    running build_ext\n",
      "    gcc -pthread -Wno-unused-result -Wsign-compare -DNDEBUG -g -fwrapv -O3 -Wall -Wstrict-prototypes -fPIC -std=c++11 -fPIC -O2 -Wall -mf16c -mavx -I/azureml-envs/azureml_3a2fad361c43dd9258fd40070cb241c4/include/python3.6m -c build/temp.linux-x86_64-3.6/test_compile/test_cpp_flags.cc -o build/temp.linux-x86_64-3.6/test_compile/test_cpp_flags.o\n",
      "    cc1plus: warning: command line option â€˜-Wstrict-prototypesâ€™ is valid for C/ObjC but not for C++\n",
      "    gcc -pthread -shared -L/azureml-envs/azureml_3a2fad361c43dd9258fd40070cb241c4/lib -Wl,-rpath=/azureml-envs/azureml_3a2fad361c43dd9258fd40070cb241c4/lib,--no-as-needed -L/azureml-envs/azureml_3a2fad361c43dd9258fd40070cb241c4/lib -Wl,-rpath=/azureml-envs/azureml_3a2fad361c43dd9258fd40070cb241c4/lib,--no-as-needed build/temp.linux-x86_64-3.6/test_compile/test_cpp_flags.o -L/azureml-envs/azureml_3a2fad361c43dd9258fd40070cb241c4/lib -o build/temp.linux-x86_64-3.6/test_compile/test_cpp_flags.so\n",
      "    gcc -pthread -Wno-unused-result -Wsign-compare -DNDEBUG -g -fwrapv -O3 -Wall -Wstrict-prototypes -fPIC -I/azureml-envs/azureml_3a2fad361c43dd9258fd40070cb241c4/include/python3.6m -c build/temp.linux-x86_64-3.6/test_compile/test_link_flags.cc -o build/temp.linux-x86_64-3.6/test_compile/test_link_flags.o\n",
      "    cc1plus: warning: command line option â€˜-Wstrict-prototypesâ€™ is valid for C/ObjC but not for C++\n",
      "    gcc -pthread -shared -L/azureml-envs/azureml_3a2fad361c43dd9258fd40070cb241c4/lib -Wl,-rpath=/azureml-envs/azureml_3a2fad361c43dd9258fd40070cb241c4/lib,--no-as-needed -L/azureml-envs/azureml_3a2fad361c43dd9258fd40070cb241c4/lib -Wl,-rpath=/azureml-envs/azureml_3a2fad361c43dd9258fd40070cb241c4/lib,--no-as-needed -Wl,--version-script=horovod.lds build/temp.linux-x86_64-3.6/test_compile/test_link_flags.o -L/azureml-envs/azureml_3a2fad361c43dd9258fd40070cb241c4/lib -o build/temp.linux-x86_64-3.6/test_compile/test_link_flags.so\n",
      "    /azureml-envs/azureml_3a2fad361c43dd9258fd40070cb241c4/lib/python3.6/site-packages/tensorflow/python/framework/dtypes.py:526: FutureWarning: Passing (type, 1) or '1type' as a synonym of type is deprecated; in a future version of numpy, it will be understood as (type, (1,)) / '(1,)type'.\n",
      "      _np_qint8 = np.dtype([(\"qint8\", np.int8, 1)])\n",
      "    /azureml-envs/azureml_3a2fad361c43dd9258fd40070cb241c4/lib/python3.6/site-packages/tensorflow/python/framework/dtypes.py:527: FutureWarning: Passing (type, 1) or '1type' as a synonym of type is deprecated; in a future version of numpy, it will be understood as (type, (1,)) / '(1,)type'.\n",
      "      _np_quint8 = np.dtype([(\"quint8\", np.uint8, 1)])\n",
      "    /azureml-envs/azureml_3a2fad361c43dd9258fd40070cb241c4/lib/python3.6/site-packages/tensorflow/python/framework/dtypes.py:528: FutureWarning: Passing (type, 1) or '1type' as a synonym of type is deprecated; in a future version of numpy, it will be understood as (type, (1,)) / '(1,)type'.\n",
      "      _np_qint16 = np.dtype([(\"qint16\", np.int16, 1)])\n",
      "    /azureml-envs/azureml_3a2fad361c43dd9258fd40070cb241c4/lib/python3.6/site-packages/tensorflow/python/framework/dtypes.py:529: FutureWarning: Passing (type, 1) or '1type' as a synonym of type is deprecated; in a future version of numpy, it will be understood as (type, (1,)) / '(1,)type'.\n",
      "      _np_quint16 = np.dtype([(\"quint16\", np.uint16, 1)])\n",
      "    /azureml-envs/azureml_3a2fad361c43dd9258fd40070cb241c4/lib/python3.6/site-packages/tensorflow/python/framework/dtypes.py:530: FutureWarning: Passing (type, 1) or '1type' as a synonym of type is deprecated; in a future version of numpy, it will be understood as (type, (1,)) / '(1,)type'.\n",
      "      _np_qint32 = np.dtype([(\"qint32\", np.int32, 1)])\n",
      "    /azureml-envs/azureml_3a2fad361c43dd9258fd40070cb241c4/lib/python3.6/site-packages/tensorflow/python/framework/dtypes.py:535: FutureWarning: Passing (type, 1) or '1type' as a synonym of type is deprecated; in a future version of numpy, it will be understood as (type, (1,)) / '(1,)type'.\n",
      "      np_resource = np.dtype([(\"resource\", np.ubyte, 1)])\n",
      "    INFO: Unable to build TensorFlow plugin, will skip it.\n",
      "    \n",
      "    Traceback (most recent call last):\n",
      "      File \"/tmp/pip-install-qv3gi7l_/horovod/setup.py\", line 55, in check_tf_version\n",
      "        import tensorflow as tf\n",
      "      File \"/azureml-envs/azureml_3a2fad361c43dd9258fd40070cb241c4/lib/python3.6/site-packages/tensorflow/__init__.py\", line 29, in <module>\n",
      "        from tensorflow._api.v1 import compat\n",
      "      File \"/azureml-envs/azureml_3a2fad361c43dd9258fd40070cb241c4/lib/python3.6/site-packages/tensorflow/_api/v1/compat/__init__.py\", line 21, in <module>\n",
      "        from tensorflow._api.v1.compat import v1\n",
      "      File \"/azureml-envs/azureml_3a2fad361c43dd9258fd40070cb241c4/lib/python3.6/site-packages/tensorflow/_api/v1/compat/v1/__init__.py\", line 626, in <module>\n",
      "        child_package_str=('tensorflow_estimator.python.estimator.api.estimator'))\n",
      "      File \"/azureml-envs/azureml_3a2fad361c43dd9258fd40070cb241c4/lib/python3.6/site-packages/tensorflow/python/tools/component_api_helper.py\", line 56, in package_hook\n",
      "        child_pkg = importlib.import_module(child_package_str)\n",
      "      File \"/azureml-envs/azureml_3a2fad361c43dd9258fd40070cb241c4/lib/python3.6/importlib/__init__.py\", line 126, in import_module\n",
      "        return _bootstrap._gcd_import(name[level:], package, level)\n",
      "      File \"/azureml-envs/azureml_3a2fad361c43dd9258fd40070cb241c4/lib/python3.6/site-packages/tensorflow_estimator/__init__.py\", line 8, in <module>\n",
      "        from tensorflow_estimator._api.v1 import estimator\n",
      "      File \"/azureml-envs/azureml_3a2fad361c43dd9258fd40070cb241c4/lib/python3.6/site-packages/tensorflow_estimator/_api/v1/estimator/__init__.py\", line 8, in <module>\n",
      "        from tensorflow_estimator._api.v1.estimator import experimental\n",
      "      File \"/azureml-envs/azureml_3a2fad361c43dd9258fd40070cb241c4/lib/python3.6/site-packages/tensorflow_estimator/_api/v1/estimator/experimental/__init__.py\", line 8, in <module>\n",
      "        from tensorflow_estimator.python.estimator.canned.dnn import dnn_logit_fn_builder\n",
      "      File \"/azureml-envs/azureml_3a2fad361c43dd9258fd40070cb241c4/lib/python3.6/site-packages/tensorflow_estimator/python/estimator/__init__.py\", line 25, in <module>\n",
      "        import tensorflow_estimator.python.estimator.estimator_lib\n",
      "      File \"/azureml-envs/azureml_3a2fad361c43dd9258fd40070cb241c4/lib/python3.6/site-packages/tensorflow_estimator/python/estimator/estimator_lib.py\", line 22, in <module>\n",
      "        from tensorflow_estimator.python.estimator.canned.baseline import BaselineClassifier\n",
      "      File \"/azureml-envs/azureml_3a2fad361c43dd9258fd40070cb241c4/lib/python3.6/site-packages/tensorflow_estimator/python/estimator/canned/baseline.py\", line 67, in <module>\n",
      "        from tensorflow_estimator.python.estimator import estimator\n",
      "      File \"/azureml-envs/azureml_3a2fad361c43dd9258fd40070cb241c4/lib/python3.6/site-packages/tensorflow_estimator/python/estimator/estimator.py\", line 37, in <module>\n",
      "        from tensorflow.python.eager import monitoring\n",
      "      File \"/azureml-envs/azureml_3a2fad361c43dd9258fd40070cb241c4/lib/python3.6/site-packages/tensorflow/python/eager/monitoring.py\", line 31, in <module>\n",
      "        create=pywrap_tensorflow.TFE_MonitoringNewCounter0,\n",
      "    AttributeError: module 'tensorflow.python.pywrap_tensorflow' has no attribute 'TFE_MonitoringNewCounter0'\n",
      "    \n",
      "    During handling of the above exception, another exception occurred:\n",
      "    \n",
      "    Traceback (most recent call last):\n",
      "      File \"/tmp/pip-install-qv3gi7l_/horovod/setup.py\", line 909, in build_extensions\n",
      "        build_tf_extension(self, options)\n",
      "      File \"/tmp/pip-install-qv3gi7l_/horovod/setup.py\", line 608, in build_tf_extension\n",
      "        check_tf_version()\n",
      "      File \"/tmp/pip-install-qv3gi7l_/horovod/setup.py\", line 66, in check_tf_version\n",
      "        'Your TensorFlow version is outdated.  Horovod requires tensorflow>=1.1.0')\n",
      "    distutils.errors.DistutilsPlatformError: Your TensorFlow version is outdated.  Horovod requires tensorflow>=1.1.0\n",
      "    \n",
      "    INFO: Unable to build PyTorch plugin, will skip it.\n",
      "    \n",
      "    Traceback (most recent call last):\n",
      "      File \"/tmp/pip-install-qv3gi7l_/horovod/setup.py\", line 711, in check_torch_version\n",
      "        import torch\n",
      "    ModuleNotFoundError: No module named 'torch'\n",
      "    \n",
      "    During handling of the above exception, another exception occurred:\n",
      "    \n",
      "    Traceback (most recent call last):\n",
      "      File \"/tmp/pip-install-qv3gi7l_/horovod/setup.py\", line 920, in build_extensions\n",
      "        torch_version = check_torch_version()\n",
      "      File \"/tmp/pip-install-qv3gi7l_/horovod/setup.py\", line 718, in check_torch_version\n",
      "        'import torch failed, is it installed?\\n\\n%s' % traceback.format_exc())\n",
      "    distutils.errors.DistutilsPlatformError: import torch failed, is it installed?\n",
      "    \n",
      "    Traceback (most recent call last):\n",
      "      File \"/tmp/pip-install-qv3gi7l_/horovod/setup.py\", line 711, in check_torch_version\n",
      "        import torch\n",
      "    ModuleNotFoundError: No module named 'torch'\n",
      "    \n",
      "    \n",
      "    INFO: Unable to build MXNet plugin, will skip it.\n",
      "    \n",
      "    Traceback (most recent call last):\n",
      "      File \"/tmp/pip-install-qv3gi7l_/horovod/setup.py\", line 71, in check_mx_version\n",
      "        import mxnet as mx\n",
      "    ModuleNotFoundError: No module named 'mxnet'\n",
      "    \n",
      "    During handling of the above exception, another exception occurred:\n",
      "    \n",
      "    Traceback (most recent call last):\n",
      "      File \"/tmp/pip-install-qv3gi7l_/horovod/setup.py\", line 935, in build_extensions\n",
      "        build_mx_extension(self, options)\n",
      "      File \"/tmp/pip-install-qv3gi7l_/horovod/setup.py\", line 672, in build_mx_extension\n",
      "        check_mx_version()\n",
      "      File \"/tmp/pip-install-qv3gi7l_/horovod/setup.py\", line 78, in check_mx_version\n",
      "        'import mxnet failed, is it installed?\\n\\n%s' % traceback.format_exc())\n",
      "    distutils.errors.DistutilsPlatformError: import mxnet failed, is it installed?\n",
      "    \n",
      "    Traceback (most recent call last):\n",
      "      File \"/tmp/pip-install-qv3gi7l_/horovod/setup.py\", line 71, in check_mx_version\n",
      "        import mxnet as mx\n",
      "    ModuleNotFoundError: No module named 'mxnet'\n",
      "    \n",
      "    \n",
      "    error: None of TensorFlow, PyTorch, or MXNet plugins were built. See errors above.\n",
      "    ----------------------------------------\n",
      "\u001b[0m\u001b[91mERROR: Command errored out with exit status 1: /azureml-envs/azureml_3a2fad361c43dd9258fd40070cb241c4/bin/python -u -c 'import sys, setuptools, tokenize; sys.argv[0] = '\"'\"'/tmp/pip-install-qv3gi7l_/horovod/setup.py'\"'\"'; __file__='\"'\"'/tmp/pip-install-qv3gi7l_/horovod/setup.py'\"'\"';f=getattr(tokenize, '\"'\"'open'\"'\"', open)(__file__);code=f.read().replace('\"'\"'\\r\\n'\"'\"', '\"'\"'\\n'\"'\"');f.close();exec(compile(code, __file__, '\"'\"'exec'\"'\"'))' install --record /tmp/pip-record-b_7lj4c_/install-record.txt --single-version-externally-managed --compile Check the logs for full command output.\n",
      "\u001b[0m\u001b[91m\n",
      "\n",
      "CondaValueError: pip returned an error\n",
      "\n",
      "\u001b[0mThe command '/bin/sh -c ldconfig /usr/local/cuda/lib64/stubs && conda env create -p /azureml-envs/azureml_3a2fad361c43dd9258fd40070cb241c4 -f azureml-environment-setup/mutated_conda_dependencies.yml && rm -rf \"$HOME/.cache/pip\" && conda clean -aqy && CONDA_ROOT_DIR=$(conda info --root) && rm -rf \"$CONDA_ROOT_DIR/pkgs\" && find \"$CONDA_ROOT_DIR\" -type d -name __pycache__ -exec rm -rf {} + && ldconfig' returned a non-zero code: 1\n",
      "2019/09/20 14:55:55 Container failed during run: acb_step_0. No retries remaining.\n",
      "failed to run step ID: acb_step_0: exit status 1\n",
      "\n",
      "Run ID: dbj failed after 4m17s. Error: failed during run, err: exit status 1\n",
      "\n",
      "Execution Summary\n",
      "=================\n",
      "RunId: keras-mnist_1568991089_5b120cd5\n",
      "Web View: https://mlworkspace.azure.ai/portal/subscriptions/51799227-bd67-4e34-96c2-fa93ef5da18d/resourceGroups/tom/providers/Microsoft.MachineLearningServices/workspaces/dl01/experiments/keras-mnist/runs/keras-mnist_1568991089_5b120cd5\n"
     ]
    },
    {
     "ename": "ActivityFailedException",
     "evalue": "ActivityFailedException:\n\tMessage: Activity Failed:\n{\n    \"error\": {\n        \"code\": \"UserError\",\n        \"message\": \"Image build failed. For more details, check log file azureml-logs/20_image_build_log.txt\",\n        \"details\": []\n    },\n    \"correlation\": {\n        \"operation\": null,\n        \"request\": \"tNomCG0q5KI=\"\n    },\n    \"environment\": \"uksouth\",\n    \"location\": \"uksouth\",\n    \"time\": \"2019-09-20T14:56:06.43595Z\"\n}\n\tInnerException None\n\tErrorResponse \n{\n    \"error\": {\n        \"message\": \"Activity Failed:\\n{\\n    \\\"error\\\": {\\n        \\\"code\\\": \\\"UserError\\\",\\n        \\\"message\\\": \\\"Image build failed. For more details, check log file azureml-logs/20_image_build_log.txt\\\",\\n        \\\"details\\\": []\\n    },\\n    \\\"correlation\\\": {\\n        \\\"operation\\\": null,\\n        \\\"request\\\": \\\"tNomCG0q5KI=\\\"\\n    },\\n    \\\"environment\\\": \\\"uksouth\\\",\\n    \\\"location\\\": \\\"uksouth\\\",\\n    \\\"time\\\": \\\"2019-09-20T14:56:06.43595Z\\\"\\n}\"\n    }\n}",
     "output_type": "error",
     "traceback": [
      "\u001b[0;31m---------------------------------------------------------------------------\u001b[0m",
      "\u001b[0;31mActivityFailedException\u001b[0m                   Traceback (most recent call last)",
      "\u001b[0;32m<ipython-input-18-f3cfc0c7140d>\u001b[0m in \u001b[0;36m<module>\u001b[0;34m()\u001b[0m\n\u001b[0;32m----> 1\u001b[0;31m \u001b[0mrun\u001b[0m\u001b[0;34m.\u001b[0m\u001b[0mwait_for_completion\u001b[0m\u001b[0;34m(\u001b[0m\u001b[0mshow_output\u001b[0m\u001b[0;34m=\u001b[0m\u001b[0;32mTrue\u001b[0m\u001b[0;34m)\u001b[0m\u001b[0;34m\u001b[0m\u001b[0m\n\u001b[0m",
      "\u001b[0;32m/anaconda/envs/azureml_py36/lib/python3.6/site-packages/azureml/core/run.py\u001b[0m in \u001b[0;36mwait_for_completion\u001b[0;34m(self, show_output, wait_post_processing, raise_on_error)\u001b[0m\n\u001b[1;32m    560\u001b[0m                     \u001b[0mfile_handle\u001b[0m\u001b[0;34m=\u001b[0m\u001b[0msys\u001b[0m\u001b[0;34m.\u001b[0m\u001b[0mstdout\u001b[0m\u001b[0;34m,\u001b[0m\u001b[0;34m\u001b[0m\u001b[0m\n\u001b[1;32m    561\u001b[0m                     \u001b[0mwait_post_processing\u001b[0m\u001b[0;34m=\u001b[0m\u001b[0mwait_post_processing\u001b[0m\u001b[0;34m,\u001b[0m\u001b[0;34m\u001b[0m\u001b[0m\n\u001b[0;32m--> 562\u001b[0;31m                     raise_on_error=raise_on_error)\n\u001b[0m\u001b[1;32m    563\u001b[0m                 \u001b[0;32mreturn\u001b[0m \u001b[0mself\u001b[0m\u001b[0;34m.\u001b[0m\u001b[0mget_details\u001b[0m\u001b[0;34m(\u001b[0m\u001b[0;34m)\u001b[0m\u001b[0;34m\u001b[0m\u001b[0m\n\u001b[1;32m    564\u001b[0m             \u001b[0;32mexcept\u001b[0m \u001b[0mKeyboardInterrupt\u001b[0m\u001b[0;34m:\u001b[0m\u001b[0;34m\u001b[0m\u001b[0m\n",
      "\u001b[0;32m/anaconda/envs/azureml_py36/lib/python3.6/site-packages/azureml/core/run.py\u001b[0m in \u001b[0;36m_stream_run_output\u001b[0;34m(self, file_handle, wait_post_processing, raise_on_error)\u001b[0m\n\u001b[1;32m    799\u001b[0m                 \u001b[0mfile_handle\u001b[0m\u001b[0;34m.\u001b[0m\u001b[0mwrite\u001b[0m\u001b[0;34m(\u001b[0m\u001b[0;34m\"\\n\"\u001b[0m\u001b[0;34m)\u001b[0m\u001b[0;34m\u001b[0m\u001b[0m\n\u001b[1;32m    800\u001b[0m             \u001b[0;32melse\u001b[0m\u001b[0;34m:\u001b[0m\u001b[0;34m\u001b[0m\u001b[0m\n\u001b[0;32m--> 801\u001b[0;31m                 \u001b[0;32mraise\u001b[0m \u001b[0mActivityFailedException\u001b[0m\u001b[0;34m(\u001b[0m\u001b[0merror_details\u001b[0m\u001b[0;34m=\u001b[0m\u001b[0mjson\u001b[0m\u001b[0;34m.\u001b[0m\u001b[0mdumps\u001b[0m\u001b[0;34m(\u001b[0m\u001b[0merror\u001b[0m\u001b[0;34m,\u001b[0m \u001b[0mindent\u001b[0m\u001b[0;34m=\u001b[0m\u001b[0;36m4\u001b[0m\u001b[0;34m)\u001b[0m\u001b[0;34m)\u001b[0m\u001b[0;34m\u001b[0m\u001b[0m\n\u001b[0m\u001b[1;32m    802\u001b[0m \u001b[0;34m\u001b[0m\u001b[0m\n\u001b[1;32m    803\u001b[0m         \u001b[0mfile_handle\u001b[0m\u001b[0;34m.\u001b[0m\u001b[0mwrite\u001b[0m\u001b[0;34m(\u001b[0m\u001b[0;34m\"\\n\"\u001b[0m\u001b[0;34m)\u001b[0m\u001b[0;34m\u001b[0m\u001b[0m\n",
      "\u001b[0;31mActivityFailedException\u001b[0m: ActivityFailedException:\n\tMessage: Activity Failed:\n{\n    \"error\": {\n        \"code\": \"UserError\",\n        \"message\": \"Image build failed. For more details, check log file azureml-logs/20_image_build_log.txt\",\n        \"details\": []\n    },\n    \"correlation\": {\n        \"operation\": null,\n        \"request\": \"tNomCG0q5KI=\"\n    },\n    \"environment\": \"uksouth\",\n    \"location\": \"uksouth\",\n    \"time\": \"2019-09-20T14:56:06.43595Z\"\n}\n\tInnerException None\n\tErrorResponse \n{\n    \"error\": {\n        \"message\": \"Activity Failed:\\n{\\n    \\\"error\\\": {\\n        \\\"code\\\": \\\"UserError\\\",\\n        \\\"message\\\": \\\"Image build failed. For more details, check log file azureml-logs/20_image_build_log.txt\\\",\\n        \\\"details\\\": []\\n    },\\n    \\\"correlation\\\": {\\n        \\\"operation\\\": null,\\n        \\\"request\\\": \\\"tNomCG0q5KI=\\\"\\n    },\\n    \\\"environment\\\": \\\"uksouth\\\",\\n    \\\"location\\\": \\\"uksouth\\\",\\n    \\\"time\\\": \\\"2019-09-20T14:56:06.43595Z\\\"\\n}\"\n    }\n}"
     ]
    }
   ],
   "source": [
    "run.wait_for_completion(show_output=True)"
   ]
  },
  {
   "cell_type": "markdown",
   "metadata": {},
   "source": [
    "In the outputs of the training script, it prints out the Keras version number. Please make a note of it."
   ]
  },
  {
   "cell_type": "markdown",
   "metadata": {},
   "source": [
    "### The Run object\n",
    "The Run object provides the interface to the run history -- both to the job and to the control plane (this notebook), and both while the job is running and after it has completed. It provides a number of interesting features for instance:\n",
    "* `run.get_details()`: Provides a rich set of properties of the run\n",
    "* `run.get_metrics()`: Provides a dictionary with all the metrics that were reported for the Run\n",
    "* `run.get_file_names()`: List all the files that were uploaded to the run history for this Run. This will include the `outputs` and `logs` folder, azureml-logs and other logs, as well as files that were explicitly uploaded to the run using `run.upload_file()`\n",
    "\n",
    "Below are some examples -- please run through them and inspect their output. "
   ]
  },
  {
   "cell_type": "code",
   "execution_count": null,
   "metadata": {},
   "outputs": [],
   "source": [
    "run.get_details()"
   ]
  },
  {
   "cell_type": "code",
   "execution_count": null,
   "metadata": {},
   "outputs": [],
   "source": [
    "run.get_metrics()"
   ]
  },
  {
   "cell_type": "code",
   "execution_count": null,
   "metadata": {},
   "outputs": [],
   "source": [
    "run.get_file_names()"
   ]
  },
  {
   "cell_type": "markdown",
   "metadata": {},
   "source": [
    "## Download the saved model"
   ]
  },
  {
   "cell_type": "markdown",
   "metadata": {},
   "source": [
    "In the training script, the Keras model is saved into two files, `model.json` and `model.h5`, in the `outputs/models` folder on the gpu-cluster AmlCompute node. Azure ML automatically uploaded anything written in the `./outputs` folder into run history file store. Subsequently, we can use the `run` object to download the model files. They are under the the `outputs/model` folder in the run history file store, and are downloaded into a local folder named `model`."
   ]
  },
  {
   "cell_type": "code",
   "execution_count": null,
   "metadata": {},
   "outputs": [],
   "source": [
    "# create a model folder in the current directory\n",
    "os.makedirs('./model', exist_ok=True)\n",
    "\n",
    "for f in run.get_file_names():\n",
    "    if f.startswith('outputs/model'):\n",
    "        output_file_path = os.path.join('./model', f.split('/')[-1])\n",
    "        print('Downloading from {} to {} ...'.format(f, output_file_path))\n",
    "        run.download_file(name=f, output_file_path=output_file_path)"
   ]
  },
  {
   "cell_type": "markdown",
   "metadata": {},
   "source": [
    "## Predict on the test set\n",
    "Let's check the version of the local Keras. Make sure it matches with the version number printed out in the training script. Otherwise you might not be able to load the model properly."
   ]
  },
  {
   "cell_type": "code",
   "execution_count": null,
   "metadata": {},
   "outputs": [],
   "source": [
    "import keras\n",
    "import tensorflow as tf\n",
    "\n",
    "print(\"Keras version:\", keras.__version__)\n",
    "print(\"Tensorflow version:\", tf.__version__)"
   ]
  },
  {
   "cell_type": "markdown",
   "metadata": {},
   "source": [
    "Now let's load the downloaded model."
   ]
  },
  {
   "cell_type": "code",
   "execution_count": null,
   "metadata": {},
   "outputs": [],
   "source": [
    "from keras.models import model_from_json\n",
    "\n",
    "# load json and create model\n",
    "json_file = open('model/model.json', 'r')\n",
    "loaded_model_json = json_file.read()\n",
    "json_file.close()\n",
    "loaded_model = model_from_json(loaded_model_json)\n",
    "# load weights into new model\n",
    "loaded_model.load_weights(\"model/model.h5\")\n",
    "print(\"Model loaded from disk.\")"
   ]
  },
  {
   "cell_type": "markdown",
   "metadata": {},
   "source": [
    "Feed test dataset to the persisted model to get predictions."
   ]
  },
  {
   "cell_type": "code",
   "execution_count": null,
   "metadata": {},
   "outputs": [],
   "source": [
    "# evaluate loaded model on test data\n",
    "loaded_model.compile(loss='binary_crossentropy', optimizer='rmsprop', metrics=['accuracy'])\n",
    "y_test_ohe = one_hot_encode(y_test, 10)\n",
    "y_hat = np.argmax(loaded_model.predict(X_test), axis=1)\n",
    "\n",
    "# print the first 30 labels and predictions\n",
    "print('labels:  \\t', y_test[:30])\n",
    "print('predictions:\\t', y_hat[:30])"
   ]
  },
  {
   "cell_type": "markdown",
   "metadata": {},
   "source": [
    "Calculate the overall accuracy by comparing the predicted value against the test set."
   ]
  },
  {
   "cell_type": "code",
   "execution_count": null,
   "metadata": {},
   "outputs": [],
   "source": [
    "print(\"Accuracy on the test set:\", np.average(y_hat == y_test))"
   ]
  },
  {
   "cell_type": "markdown",
   "metadata": {},
   "source": [
    "## Intelligent hyperparameter tuning\n",
    "We have trained the model with one set of hyperparameters, now let's how we can do hyperparameter tuning by launching multiple runs on the cluster. First let's define the parameter space using random sampling."
   ]
  },
  {
   "cell_type": "code",
   "execution_count": null,
   "metadata": {},
   "outputs": [],
   "source": [
    "from azureml.train.hyperdrive import RandomParameterSampling, BanditPolicy, HyperDriveConfig, PrimaryMetricGoal\n",
    "from azureml.train.hyperdrive import choice, loguniform\n",
    "\n",
    "ps = RandomParameterSampling(\n",
    "    {\n",
    "        '--batch-size': choice(25, 50, 100),\n",
    "        '--first-layer-neurons': choice(10, 50, 200, 300, 500),\n",
    "        '--second-layer-neurons': choice(10, 50, 200, 500),\n",
    "        '--learning-rate': loguniform(-6, -1)\n",
    "    }\n",
    ")"
   ]
  },
  {
   "cell_type": "markdown",
   "metadata": {},
   "source": [
    "Next, we will create a new estimator without the above parameters since they will be passed in later by Hyperdrive configuration. Note we still need to keep the `data-folder` parameter since that's not a hyperparamter we will sweep."
   ]
  },
  {
   "cell_type": "code",
   "execution_count": null,
   "metadata": {},
   "outputs": [],
   "source": [
    "est = TensorFlow(source_directory=script_folder,\n",
    "                 script_params={'--data-folder': ds.path('mnist').as_mount()},\n",
    "                 compute_target=compute_target,\n",
    "                 pip_packages=['keras', 'matplotlib'],\n",
    "                 entry_script='keras_mnist.py', \n",
    "                 use_gpu=True)"
   ]
  },
  {
   "cell_type": "markdown",
   "metadata": {},
   "source": [
    "Now we will define an early termnination policy. The `BanditPolicy` basically states to check the job every 2 iterations. If the primary metric (defined later) falls outside of the top 10% range, Azure ML terminate the job. This saves us from continuing to explore hyperparameters that don't show promise of helping reach our target metric."
   ]
  },
  {
   "cell_type": "code",
   "execution_count": null,
   "metadata": {},
   "outputs": [],
   "source": [
    "policy = BanditPolicy(evaluation_interval=2, slack_factor=0.1)"
   ]
  },
  {
   "cell_type": "markdown",
   "metadata": {},
   "source": [
    "Now we are ready to configure a run configuration object, and specify the primary metric `Accuracy` that's recorded in your training runs. If you go back to visit the training script, you will notice that this value is being logged after every epoch (a full batch set). We also want to tell the service that we are looking to maximizing this value. We also set the number of samples to 20, and maximal concurrent job to 4, which is the same as the number of nodes in our computer cluster."
   ]
  },
  {
   "cell_type": "code",
   "execution_count": null,
   "metadata": {},
   "outputs": [],
   "source": [
    "hdc = HyperDriveConfig(estimator=est, \n",
    "                       hyperparameter_sampling=ps, \n",
    "                       policy=policy, \n",
    "                       primary_metric_name='Accuracy', \n",
    "                       primary_metric_goal=PrimaryMetricGoal.MAXIMIZE, \n",
    "                       max_total_runs=20,\n",
    "                       max_concurrent_runs=4)"
   ]
  },
  {
   "cell_type": "markdown",
   "metadata": {},
   "source": [
    "Finally, let's launch the hyperparameter tuning job."
   ]
  },
  {
   "cell_type": "code",
   "execution_count": null,
   "metadata": {},
   "outputs": [],
   "source": [
    "hdr = exp.submit(config=hdc)"
   ]
  },
  {
   "cell_type": "markdown",
   "metadata": {},
   "source": [
    "We can use a run history widget to show the progress. Be patient as this might take a while to complete."
   ]
  },
  {
   "cell_type": "code",
   "execution_count": null,
   "metadata": {},
   "outputs": [],
   "source": [
    "RunDetails(hdr).show()"
   ]
  },
  {
   "cell_type": "code",
   "execution_count": null,
   "metadata": {},
   "outputs": [],
   "source": [
    "hdr.wait_for_completion(show_output=True)"
   ]
  },
  {
   "cell_type": "markdown",
   "metadata": {},
   "source": [
    "## Find and register best model\n",
    "When all the jobs finish, we can find out the one that has the highest accuracy."
   ]
  },
  {
   "cell_type": "code",
   "execution_count": null,
   "metadata": {},
   "outputs": [],
   "source": [
    "best_run = hdr.get_best_run_by_primary_metric()\n",
    "print(best_run.get_details()['runDefinition']['arguments'])"
   ]
  },
  {
   "cell_type": "markdown",
   "metadata": {},
   "source": [
    "Now let's list the model files uploaded during the run."
   ]
  },
  {
   "cell_type": "code",
   "execution_count": null,
   "metadata": {},
   "outputs": [],
   "source": [
    "print(best_run.get_file_names())"
   ]
  },
  {
   "cell_type": "markdown",
   "metadata": {},
   "source": [
    "We can then register the folder (and all files in it) as a model named `keras-dnn-mnist` under the workspace for deployment."
   ]
  },
  {
   "cell_type": "code",
   "execution_count": null,
   "metadata": {},
   "outputs": [],
   "source": [
    "model = best_run.register_model(model_name='keras-mlp-mnist', model_path='outputs/model')"
   ]
  },
  {
   "cell_type": "markdown",
   "metadata": {},
   "source": [
    "## Deploy the model in ACI\n",
    "Now we are ready to deploy the model as a web service running in Azure Container Instance [ACI](https://azure.microsoft.com/en-us/services/container-instances/). Azure Machine Learning accomplishes this by constructing a Docker image with the scoring logic and model baked in.\n",
    "### Create score.py\n",
    "First, we will create a scoring script that will be invoked by the web service call. \n",
    "\n",
    "* Note that the scoring script must have two required functions, `init()` and `run(input_data)`. \n",
    "  * In `init()` function, you typically load the model into a global object. This function is executed only once when the Docker container is started. \n",
    "  * In `run(input_data)` function, the model is used to predict a value based on the input data. The input and output to `run` typically use JSON as serialization and de-serialization format but you are not limited to that."
   ]
  },
  {
   "cell_type": "code",
   "execution_count": null,
   "metadata": {},
   "outputs": [],
   "source": [
    "%%writefile score.py\n",
    "import json\n",
    "import numpy as np\n",
    "import os\n",
    "from keras.models import model_from_json\n",
    "\n",
    "from azureml.core.model import Model\n",
    "\n",
    "def init():\n",
    "    global model\n",
    "    \n",
    "    model_root = Model.get_model_path('keras-mlp-mnist')\n",
    "    # load json and create model\n",
    "    json_file = open(os.path.join(model_root, 'model.json'), 'r')\n",
    "    model_json = json_file.read()\n",
    "    json_file.close()\n",
    "    model = model_from_json(model_json)\n",
    "    # load weights into new model\n",
    "    model.load_weights(os.path.join(model_root, \"model.h5\"))   \n",
    "    model.compile(loss='binary_crossentropy', optimizer='rmsprop', metrics=['accuracy'])\n",
    "    \n",
    "def run(raw_data):\n",
    "    data = np.array(json.loads(raw_data)['data'])\n",
    "    # make prediction\n",
    "    y_hat = np.argmax(model.predict(data), axis=1)\n",
    "    return y_hat.tolist()"
   ]
  },
  {
   "cell_type": "markdown",
   "metadata": {},
   "source": [
    "### Create myenv.yml\n",
    "We also need to create an environment file so that Azure Machine Learning can install the necessary packages in the Docker image which are required by your scoring script. In this case, we need to specify conda packages `tensorflow` and `keras`."
   ]
  },
  {
   "cell_type": "code",
   "execution_count": null,
   "metadata": {},
   "outputs": [],
   "source": [
    "from azureml.core.runconfig import CondaDependencies\n",
    "\n",
    "cd = CondaDependencies.create()\n",
    "cd.add_conda_package('tensorflow')\n",
    "cd.add_conda_package('keras')\n",
    "cd.save_to_file(base_directory='./', conda_file_path='myenv.yml')\n",
    "\n",
    "print(cd.serialize_to_string())"
   ]
  },
  {
   "cell_type": "markdown",
   "metadata": {},
   "source": [
    "### Deploy to ACI\n",
    "We are almost ready to deploy. Create a deployment configuration and specify the number of CPUs and gigbyte of RAM needed for your ACI container. "
   ]
  },
  {
   "cell_type": "code",
   "execution_count": null,
   "metadata": {},
   "outputs": [],
   "source": [
    "from azureml.core.webservice import AciWebservice\n",
    "\n",
    "aciconfig = AciWebservice.deploy_configuration(cpu_cores=1, \n",
    "                                               auth_enabled=True, # this flag generates API keys to secure access\n",
    "                                               memory_gb=1, \n",
    "                                               tags={'name':'mnist', 'framework': 'Keras'},\n",
    "                                               description='Keras MLP on MNIST')"
   ]
  },
  {
   "cell_type": "markdown",
   "metadata": {},
   "source": [
    "#### Deployment Process\n",
    "Now we can deploy. **This cell will run for about 7-8 minutes**. Behind the scene, it will do the following:\n",
    "1. **Build Docker image**  \n",
    "Build a Docker image using the scoring file (`score.py`), the environment file (`myenv.yml`), and the `model` object. \n",
    "2. **Register image**    \n",
    "Register that image under the workspace. \n",
    "3. **Ship to ACI**    \n",
    "And finally ship the image to the ACI infrastructure, start up a container in ACI using that image, and expose an HTTP endpoint to accept REST client calls."
   ]
  },
  {
   "cell_type": "code",
   "execution_count": null,
   "metadata": {},
   "outputs": [],
   "source": [
    "from azureml.core.image import ContainerImage\n",
    "\n",
    "imgconfig = ContainerImage.image_configuration(execution_script=\"score.py\", \n",
    "                                               runtime=\"python\", \n",
    "                                               conda_file=\"myenv.yml\")"
   ]
  },
  {
   "cell_type": "code",
   "execution_count": null,
   "metadata": {},
   "outputs": [],
   "source": [
    "%%time\n",
    "from azureml.core.webservice import Webservice\n",
    "\n",
    "service = Webservice.deploy_from_model(workspace=ws,\n",
    "                                       name='keras-mnist-svc',\n",
    "                                       deployment_config=aciconfig,\n",
    "                                       models=[model],\n",
    "                                       image_config=imgconfig)\n",
    "\n",
    "service.wait_for_deployment(show_output=True)"
   ]
  },
  {
   "cell_type": "markdown",
   "metadata": {},
   "source": [
    "**Tip: If something goes wrong with the deployment, the first thing to look at is the logs from the service by running the following command:**"
   ]
  },
  {
   "cell_type": "code",
   "execution_count": null,
   "metadata": {},
   "outputs": [],
   "source": [
    "print(service.get_logs())"
   ]
  },
  {
   "cell_type": "markdown",
   "metadata": {},
   "source": [
    "This is the scoring web service endpoint:"
   ]
  },
  {
   "cell_type": "code",
   "execution_count": null,
   "metadata": {},
   "outputs": [],
   "source": [
    "print(service.scoring_uri)"
   ]
  },
  {
   "cell_type": "markdown",
   "metadata": {},
   "source": [
    "### Test the deployed model\n",
    "Let's test the deployed model. Pick 30 random samples from the test set, and send it to the web service hosted in ACI. Note here we are using the `run` API in the SDK to invoke the service. You can also make raw HTTP calls using any HTTP tool such as curl.\n",
    "\n",
    "After the invocation, we print the returned predictions and plot them along with the input images. Use red font color and inversed image (white on black) to highlight the misclassified samples. Note since the model accuracy is pretty high, you might have to run the below cell a few times before you can see a misclassified sample."
   ]
  },
  {
   "cell_type": "code",
   "execution_count": null,
   "metadata": {},
   "outputs": [],
   "source": [
    "import json\n",
    "\n",
    "# find 30 random samples from test set\n",
    "n = 30\n",
    "sample_indices = np.random.permutation(X_test.shape[0])[0:n]\n",
    "\n",
    "test_samples = json.dumps({\"data\": X_test[sample_indices].tolist()})\n",
    "test_samples = bytes(test_samples, encoding='utf8')\n",
    "\n",
    "# predict using the deployed model\n",
    "result = service.run(input_data=test_samples)\n",
    "\n",
    "# compare actual value vs. the predicted values:\n",
    "i = 0\n",
    "plt.figure(figsize = (20, 1))\n",
    "\n",
    "for s in sample_indices:\n",
    "    plt.subplot(1, n, i + 1)\n",
    "    plt.axhline('')\n",
    "    plt.axvline('')\n",
    "    \n",
    "    # use different color for misclassified sample\n",
    "    font_color = 'red' if y_test[s] != result[i] else 'black'\n",
    "    clr_map = plt.cm.gray if y_test[s] != result[i] else plt.cm.Greys\n",
    "    \n",
    "    plt.text(x=10, y=-10, s=y_hat[s], fontsize=18, color=font_color)\n",
    "    plt.imshow(X_test[s].reshape(28, 28), cmap=clr_map)\n",
    "    \n",
    "    i = i + 1\n",
    "plt.show()"
   ]
  },
  {
   "cell_type": "markdown",
   "metadata": {},
   "source": [
    "We can retreive the API keys used for accessing the HTTP endpoint."
   ]
  },
  {
   "cell_type": "code",
   "execution_count": null,
   "metadata": {},
   "outputs": [],
   "source": [
    "# retreive the API keys. two keys were generated.\n",
    "key1, Key2 = service.get_keys()\n",
    "print(key1)"
   ]
  },
  {
   "cell_type": "markdown",
   "metadata": {},
   "source": [
    "We can now send construct raw HTTP request and send to the service. Don't forget to add key to the HTTP header."
   ]
  },
  {
   "cell_type": "code",
   "execution_count": null,
   "metadata": {},
   "outputs": [],
   "source": [
    "import requests\n",
    "\n",
    "# send a random row from the test set to score\n",
    "random_index = np.random.randint(0, len(X_test)-1)\n",
    "input_data = \"{\\\"data\\\": [\" + str(list(X_test[random_index])) + \"]}\"\n",
    "\n",
    "headers = {'Content-Type':'application/json', 'Authorization': 'Bearer ' + key1}\n",
    "\n",
    "resp = requests.post(service.scoring_uri, input_data, headers=headers)\n",
    "\n",
    "print(\"POST to url\", service.scoring_uri)\n",
    "#print(\"input data:\", input_data)\n",
    "print(\"label:\", y_test[random_index])\n",
    "print(\"prediction:\", resp.text)"
   ]
  },
  {
   "cell_type": "markdown",
   "metadata": {},
   "source": [
    "Let's look at the workspace after the web service was deployed. You should see \n",
    "* a registered model named 'keras-mlp-mnist' and with the id 'model:1'\n",
    "* an image called 'keras-mnist-svc' and with a docker image location pointing to your workspace's Azure Container Registry (ACR)  \n",
    "* a webservice called 'keras-mnist-svc' with some scoring URL"
   ]
  },
  {
   "cell_type": "code",
   "execution_count": null,
   "metadata": {},
   "outputs": [],
   "source": [
    "models = ws.models\n",
    "for name, model in models.items():\n",
    "    print(\"Model: {}, ID: {}\".format(name, model.id))\n",
    "    \n",
    "images = ws.images\n",
    "for name, image in images.items():\n",
    "    print(\"Image: {}, location: {}\".format(name, image.image_location))\n",
    "    \n",
    "webservices = ws.webservices\n",
    "for name, webservice in webservices.items():\n",
    "    print(\"Webservice: {}, scoring URI: {}\".format(name, webservice.scoring_uri))"
   ]
  },
  {
   "cell_type": "markdown",
   "metadata": {},
   "source": [
    "## Clean up\n",
    "You can delete the ACI deployment with a simple delete API call."
   ]
  },
  {
   "cell_type": "code",
   "execution_count": null,
   "metadata": {},
   "outputs": [],
   "source": [
    "service.delete()"
   ]
  }
 ],
 "metadata": {
  "authors": [
   {
    "name": "ninhu"
   }
  ],
  "categories": [
   "how-to-use-azureml",
   "training-with-deep-learning"
  ],
  "kernelspec": {
   "display_name": "Python 3.6 - AzureML",
   "language": "python",
   "name": "python3-azureml"
  },
  "language_info": {
   "codemirror_mode": {
    "name": "ipython",
    "version": 3
   },
   "file_extension": ".py",
   "mimetype": "text/x-python",
   "name": "python",
   "nbconvert_exporter": "python",
   "pygments_lexer": "ipython3",
   "version": "3.6.2"
  }
 },
 "nbformat": 4,
 "nbformat_minor": 2
}
