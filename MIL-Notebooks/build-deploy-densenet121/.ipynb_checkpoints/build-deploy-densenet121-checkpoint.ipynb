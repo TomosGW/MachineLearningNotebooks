{
 "cells": [
  {
   "cell_type": "markdown",
   "metadata": {},
   "source": [
    "# Build and Deploy a Densnet121 Model\n",
    "Objective is to see whether and how to a large models in Azure"
   ]
  },
  {
   "cell_type": "markdown",
   "metadata": {},
   "source": [
    "## Create a Densenet121 Model"
   ]
  },
  {
   "cell_type": "code",
   "execution_count": null,
   "metadata": {},
   "outputs": [],
   "source": [
    "from keras.applications.densenet import DenseNet121, preprocess_input\n",
    "from keras.applications import imagenet_utils\n",
    "from keras.models import Sequential, Model, load_model\n",
    "from keras.layers import *\n",
    "from keras.optimizers import SGD, Adam\n",
    "from keras.preprocessing.image import ImageDataGenerator\n",
    "from keras.utils import np_utils\n",
    "from keras.callbacks import *\n",
    "import datetime\n",
    "\n",
    "base_model = DenseNet121(include_top=False)\n",
    "layer = base_model.output\n",
    "layer = Dropout(0.25)(layer)\n",
    "layer = GlobalAveragePooling2D()(layer)\n",
    "layer = Dense(256, activation='relu', name='dense_post_pool')(layer)\n",
    "layer = Dropout(0.25)(layer)\n",
    "layer = Dense(2, activation='sigmoid', name='prediction')(layer)\n",
    "\n",
    "model = Model(inputs=base_model.input,output=layer)\n",
    "model.summary()"
   ]
  },
  {
   "cell_type": "code",
   "execution_count": null,
   "metadata": {},
   "outputs": [],
   "source": [
    "JSON_MODEL_PATH = \"C:/MIL_Src/data/models/caries_detector/DeepLearning/Clean121/Clean121.json\"\n",
    "H5_MODEL_PATH = \"C:/MIL_Src/data/models/caries_detector/DeepLearning/Clean121/Clean121.h5\"\n",
    "\n",
    "# serialize model to JSON\n",
    "model_json = model.to_json()\n",
    "with open(JSON_MODEL_PATH, \"w\") as json_file:\n",
    "    json_file.write(model_json)\n",
    "# serialize weights to HDF5\n",
    "model.save_weights(H5_MODEL_PATH)\n",
    "print(\"Saved model to disk\")\n"
   ]
  },
  {
   "cell_type": "code",
   "execution_count": null,
   "metadata": {},
   "outputs": [],
   "source": [
    "DIR_MODEL_PATH = \"C:/MIL_Src/data/models/caries_detector/DeepLearning/Clean121\"\n",
    "from azureml.core.model import Model\n",
    "# Tip: When model_path is set to a directory, you can use the child_paths parameter to include\n",
    "#      only some of the files from the directory\n",
    "model = Model.register(model_path = DIR_MODEL_PATH,\n",
    "                       model_name = \"Clean121\",\n",
    "                       description = \"Clean Densnet121 model with extra layers\",\n",
    "                       workspace = ws)"
   ]
  }
 ],
 "metadata": {
  "kernelspec": {
   "display_name": "Python 3.6 - AzureML",
   "language": "python",
   "name": "python3-azureml"
  },
  "language_info": {
   "codemirror_mode": {
    "name": "ipython",
    "version": 3
   },
   "file_extension": ".py",
   "mimetype": "text/x-python",
   "name": "python",
   "nbconvert_exporter": "python",
   "pygments_lexer": "ipython3",
   "version": "3.6.2"
  }
 },
 "nbformat": 4,
 "nbformat_minor": 2
}
