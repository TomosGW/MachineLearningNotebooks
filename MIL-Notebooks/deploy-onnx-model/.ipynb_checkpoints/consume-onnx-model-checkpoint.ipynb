{
 "cells": [
  {
   "cell_type": "markdown",
   "metadata": {},
   "source": [
    "Set the various directories and load the model\n",
    "based on [Deploying Neural Network models to Azure ML Service with Keras and ONNX](http://benalexkeen.com/deploying-neural-network-models-to-azure-ml-service-with-keras-and-onnx/)\n",
    "\n",
    "Service created in [Deploy ONNX Models](deploy-onnx-models.ipynb)"
   ]
  },
  {
   "cell_type": "markdown",
   "metadata": {},
   "source": [
    "# Setup environment and Access Service from workspace"
   ]
  },
  {
   "cell_type": "markdown",
   "metadata": {},
   "source": [
    "In the terminal, created a new enviroment, cloned from azureml_py36 with added required packages:\n",
    "\n",
    "```\n",
    "> conda deactivate\n",
    "> conda create --name azuremlcv_py36 --clone azureml_py36 (had to run 'conda clean -a' first)\n",
    "> conda activate azuremlcv_py36\n",
    "> conda install opencv\n",
    "> python -m ipykernel install --name \"azuremlcv_py36\" --user\n",
    "> jupyter kernelspec list\n",
    "```"
   ]
  },
  {
   "cell_type": "code",
   "execution_count": 1,
   "metadata": {},
   "outputs": [
    {
     "name": "stdout",
     "output_type": "stream",
     "text": [
      "Azure ML SDK Version:  1.0.60\n"
     ]
    }
   ],
   "source": [
    "import azureml\n",
    "from azureml.core import Workspace\n",
    "\n",
    "# check core SDK version number\n",
    "print(\"Azure ML SDK Version: \", azureml.core.VERSION)"
   ]
  },
  {
   "cell_type": "code",
   "execution_count": 2,
   "metadata": {},
   "outputs": [
    {
     "name": "stdout",
     "output_type": "stream",
     "text": [
      "Workspace name: dl01\n",
      "Azure region: uksouth\n",
      "Subscription id: 51799227-bd67-4e34-96c2-fa93ef5da18d\n",
      "Resource group: tom\n"
     ]
    }
   ],
   "source": [
    "ws = Workspace.from_config()\n",
    "print('Workspace name: ' + ws.name, \n",
    "      'Azure region: ' + ws.location, \n",
    "      'Subscription id: ' + ws.subscription_id, \n",
    "      'Resource group: ' + ws.resource_group, sep='\\n')"
   ]
  },
  {
   "cell_type": "code",
   "execution_count": 3,
   "metadata": {},
   "outputs": [
    {
     "name": "stdout",
     "output_type": "stream",
     "text": [
      "AciWebservice(workspace=Workspace.create(name='dl01', subscription_id='51799227-bd67-4e34-96c2-fa93ef5da18d', resource_group='tom'), name=caries-filter-onnx-svc, image_id=caries-filter-onnx:1, compute_type=ACI, state=Healthy, scoring_uri=http://8da22d10-5819-441b-84b8-2261f811b348.uksouth.azurecontainer.io/score, tags={}, properties={'azureml.git.repository_uri': 'https://github.com/TomosGW/MachineLearningNotebooks.git', 'mlflow.source.git.repoURL': 'https://github.com/TomosGW/MachineLearningNotebooks.git', 'azureml.git.branch': 'MIL/NotebookVM', 'mlflow.source.git.branch': 'MIL/NotebookVM', 'azureml.git.commit': 'ee95b3d6b3f4941bd8cf6d05264d86e1c3d4d1aa', 'mlflow.source.git.commit': 'ee95b3d6b3f4941bd8cf6d05264d86e1c3d4d1aa', 'azureml.git.dirty': 'True'})\n"
     ]
    }
   ],
   "source": [
    "from azureml.core.webservice import AciWebservice, Webservice\n",
    "\n",
    "service = Webservice(ws, 'caries-filter-onnx-svc')\n",
    "print(service)"
   ]
  },
  {
   "cell_type": "code",
   "execution_count": 4,
   "metadata": {},
   "outputs": [
    {
     "name": "stdout",
     "output_type": "stream",
     "text": [
      "Scoring API served at: http://8da22d10-5819-441b-84b8-2261f811b348.uksouth.azurecontainer.io/score\n"
     ]
    }
   ],
   "source": [
    "print(\"Scoring API served at: {}\".format(service.scoring_uri))"
   ]
  },
  {
   "cell_type": "markdown",
   "metadata": {},
   "source": [
    "# Testing our deployed Azure ML API"
   ]
  },
  {
   "cell_type": "code",
   "execution_count": 13,
   "metadata": {},
   "outputs": [
    {
     "data": {
      "image/png": "[encoded data removed]",
      "text/plain": [
       "<Figure size 1440x72 with 1 Axes>"
      ]
     },
     "metadata": {
      "needs_background": "light"
     },
     "output_type": "display_data"
    }
   ],
   "source": [
    "import json \n",
    "import numpy as np\n",
    "import matplotlib.pyplot as plt\n",
    "import cv2\n",
    "from keras.applications.densenet import preprocess_input\n",
    "from keras.preprocessing.image import img_to_array\n",
    "\n",
    "IMAGE_WIDTH, IMAGE_HEIGHT = 120, 120\n",
    "def preprocess_image(image, size=(IMAGE_WIDTH, IMAGE_HEIGHT)):\n",
    "    # resize the image to a fixed size, then flatten the image into\n",
    "    # a list of raw pixel intensities\n",
    "    image = cv2.resize(image, size)   \n",
    "    image = preprocess_input(image)\n",
    "    return image\n",
    "\n",
    "image = cv2.imread(\"SC10_0173_0698.tif\",cv2.IMREAD_GRAYSCALE)\n",
    "image = cv2.cvtColor(image,cv2.COLOR_GRAY2RGB)\n",
    "\n",
    "# Plot the image\n",
    "plt.figure(figsize = (20, 1))\n",
    "plt.imshow(image)\n",
    "plt.axhline('')\n",
    "plt.axvline('')\n",
    "plt.show()\n",
    "\n",
    "image = preprocess_image(image)\n",
    "\n",
    "data = img_to_array(image)\n",
    "data = np.expand_dims(data, axis=0)\n",
    "\n",
    "test_samples = json.dumps({\"data\": data.tolist()})\n",
    "test_samples = bytes(test_samples, encoding = 'utf8')\n",
    "\n",
    "# predict using the deployed model\n",
    "result = service.run(input_data=test_samples)['result']\n",
    "result_json = {\n",
    "    \"normal\" : float(result[0][0]),\n",
    "    \"caries\" : float(result[0][1])\n",
    "}\n",
    "\n"
   ]
  },
  {
   "cell_type": "code",
   "execution_count": 14,
   "metadata": {},
   "outputs": [
    {
     "name": "stdout",
     "output_type": "stream",
     "text": [
      "[[0.9999679327011108, 3.5762786865234375e-05]]\n",
      "{'normal': 0.9999679327011108, 'caries': 3.5762786865234375e-05}\n"
     ]
    }
   ],
   "source": [
    "print(result)\n",
    "print(result_json)"
   ]
  },
  {
   "cell_type": "markdown",
   "metadata": {},
   "source": [
    "# URI Request"
   ]
  },
  {
   "cell_type": "code",
   "execution_count": null,
   "metadata": {},
   "outputs": [],
   "source": [
    "import requests\n",
    "\n",
    "input_data = json.dumps({\"data\": test_images[sample_indices].tolist()})\n",
    "\n",
    "headers = {'Content-Type':'application/json'}\n",
    "\n",
    "resp = requests.post(service.scoring_uri, input_data, headers=headers)\n",
    "\n",
    "print(\"POST to url\", service.scoring_uri)\n",
    "\n",
    "result = json.loads(resp.text)['result']\n",
    "\n",
    "for i, s in enumerate(sample_indices): \n",
    "    predicted_value = result[i].index(max(result[i]))\n",
    "    actual_value = list(test_labels[s]).index(max(test_labels[s]))\n",
    "    print(\"{}. Prediction = {}, Actual = {}\".format(i, predicted_value, actual_value))"
   ]
  },
  {
   "cell_type": "code",
   "execution_count": null,
   "metadata": {},
   "outputs": [],
   "source": []
  },
  {
   "cell_type": "code",
   "execution_count": null,
   "metadata": {},
   "outputs": [],
   "source": []
  },
  {
   "cell_type": "code",
   "execution_count": null,
   "metadata": {},
   "outputs": [],
   "source": []
  }
 ],
 "metadata": {
  "kernelspec": {
   "display_name": "azuremlcv_py36",
   "language": "python",
   "name": "azuremlcv_py36"
  },
  "language_info": {
   "codemirror_mode": {
    "name": "ipython",
    "version": 3
   },
   "file_extension": ".py",
   "mimetype": "text/x-python",
   "name": "python",
   "nbconvert_exporter": "python",
   "pygments_lexer": "ipython3",
   "version": "3.6.2"
  }
 },
 "nbformat": 4,
 "nbformat_minor": 2
}
